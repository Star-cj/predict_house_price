{
 "cells": [
  {
   "cell_type": "markdown",
   "metadata": {},
   "source": [
    "this dataset is gotten from link: https://www.kaggle.com/datasets/eyimofeapinnick/nigeria-rent-prices-2022"
   ]
  },
  {
   "cell_type": "code",
   "execution_count": 1,
   "metadata": {},
   "outputs": [
    {
     "name": "stderr",
     "output_type": "stream",
     "text": [
      "C:\\Users\\user\\AppData\\Local\\Temp\\ipykernel_7304\\1923398239.py:1: DeprecationWarning: \n",
      "Pyarrow will become a required dependency of pandas in the next major release of pandas (pandas 3.0),\n",
      "(to allow more performant data types, such as the Arrow string type, and better interoperability with other libraries)\n",
      "but was not found to be installed on your system.\n",
      "If this would cause problems for you,\n",
      "please provide us feedback at https://github.com/pandas-dev/pandas/issues/54466\n",
      "        \n",
      "  import pandas as pd\n"
     ]
    }
   ],
   "source": [
    "import pandas as pd\n",
    "import matplotlib\n",
    "import matplotlib.pyplot as plt\n",
    "import numpy as np\n",
    "import re\n",
    "%matplotlib inline"
   ]
  },
  {
   "cell_type": "code",
   "execution_count": 29,
   "metadata": {},
   "outputs": [
    {
     "data": {
      "text/html": [
       "<div>\n",
       "<style scoped>\n",
       "    .dataframe tbody tr th:only-of-type {\n",
       "        vertical-align: middle;\n",
       "    }\n",
       "\n",
       "    .dataframe tbody tr th {\n",
       "        vertical-align: top;\n",
       "    }\n",
       "\n",
       "    .dataframe thead th {\n",
       "        text-align: right;\n",
       "    }\n",
       "</style>\n",
       "<table border=\"1\" class=\"dataframe\">\n",
       "  <thead>\n",
       "    <tr style=\"text-align: right;\">\n",
       "      <th></th>\n",
       "      <th>Title</th>\n",
       "      <th>More Info</th>\n",
       "      <th>Location</th>\n",
       "      <th>Price</th>\n",
       "      <th>Serviced</th>\n",
       "      <th>Newly Built</th>\n",
       "      <th>Furnished</th>\n",
       "      <th>Bedrooms</th>\n",
       "      <th>Bathrooms</th>\n",
       "      <th>Toilets</th>\n",
       "    </tr>\n",
       "  </thead>\n",
       "  <tbody>\n",
       "    <tr>\n",
       "      <th>0</th>\n",
       "      <td>Newly Built 4 Bedroom Semi Detached House With Bq</td>\n",
       "      <td>4 BEDROOM HOUSE FOR RENT</td>\n",
       "      <td>White Oak Estate, Ologolo Opp. Agungi, Ologolo...</td>\n",
       "      <td>5,000,000/year</td>\n",
       "      <td>0</td>\n",
       "      <td>1</td>\n",
       "      <td>0</td>\n",
       "      <td>4 beds</td>\n",
       "      <td>4 baths</td>\n",
       "      <td>5 Toilets</td>\n",
       "    </tr>\n",
       "    <tr>\n",
       "      <th>1</th>\n",
       "      <td>Superb 4 Bedroom Semi Detached Duplex With Bq</td>\n",
       "      <td>4 BEDROOM HOUSE FOR RENT</td>\n",
       "      <td>Hrc Estate Beside Vgc Estate, Vgc Lekki Lagos</td>\n",
       "      <td>5,000,000/year</td>\n",
       "      <td>0</td>\n",
       "      <td>1</td>\n",
       "      <td>0</td>\n",
       "      <td>4 beds</td>\n",
       "      <td>4 baths</td>\n",
       "      <td>5 Toilets</td>\n",
       "    </tr>\n",
       "    <tr>\n",
       "      <th>2</th>\n",
       "      <td>Furnished 2 Bedroom Terrace Duplex For Rent !!!</td>\n",
       "      <td>2 BEDROOM HOUSE FOR RENT</td>\n",
       "      <td>Osapa London Lekki Lagos</td>\n",
       "      <td>3,500,000</td>\n",
       "      <td>1</td>\n",
       "      <td>0</td>\n",
       "      <td>0</td>\n",
       "      <td>2 beds</td>\n",
       "      <td>3 baths</td>\n",
       "      <td>3 Toilets</td>\n",
       "    </tr>\n",
       "  </tbody>\n",
       "</table>\n",
       "</div>"
      ],
      "text/plain": [
       "                                               Title  \\\n",
       "0  Newly Built 4 Bedroom Semi Detached House With Bq   \n",
       "1      Superb 4 Bedroom Semi Detached Duplex With Bq   \n",
       "2    Furnished 2 Bedroom Terrace Duplex For Rent !!!   \n",
       "\n",
       "                  More Info  \\\n",
       "0  4 BEDROOM HOUSE FOR RENT   \n",
       "1  4 BEDROOM HOUSE FOR RENT   \n",
       "2  2 BEDROOM HOUSE FOR RENT   \n",
       "\n",
       "                                            Location           Price  \\\n",
       "0  White Oak Estate, Ologolo Opp. Agungi, Ologolo...  5,000,000/year   \n",
       "1      Hrc Estate Beside Vgc Estate, Vgc Lekki Lagos  5,000,000/year   \n",
       "2                           Osapa London Lekki Lagos       3,500,000   \n",
       "\n",
       "   Serviced  Newly Built  Furnished Bedrooms Bathrooms    Toilets  \n",
       "0         0            1          0   4 beds   4 baths  5 Toilets  \n",
       "1         0            1          0   4 beds   4 baths  5 Toilets  \n",
       "2         1            0          0   2 beds   3 baths  3 Toilets  "
      ]
     },
     "execution_count": 29,
     "metadata": {},
     "output_type": "execute_result"
    }
   ],
   "source": [
    "df=pd.read_csv('nigeria-rent.csv')\n",
    "df.head(3)"
   ]
  },
  {
   "cell_type": "code",
   "execution_count": 41,
   "metadata": {},
   "outputs": [
    {
     "data": {
      "text/html": [
       "<div>\n",
       "<style scoped>\n",
       "    .dataframe tbody tr th:only-of-type {\n",
       "        vertical-align: middle;\n",
       "    }\n",
       "\n",
       "    .dataframe tbody tr th {\n",
       "        vertical-align: top;\n",
       "    }\n",
       "\n",
       "    .dataframe thead th {\n",
       "        text-align: right;\n",
       "    }\n",
       "</style>\n",
       "<table border=\"1\" class=\"dataframe\">\n",
       "  <thead>\n",
       "    <tr style=\"text-align: right;\">\n",
       "      <th></th>\n",
       "      <th>Title</th>\n",
       "      <th>More Info</th>\n",
       "      <th>Location</th>\n",
       "      <th>Price</th>\n",
       "      <th>Serviced</th>\n",
       "      <th>Newly Built</th>\n",
       "      <th>Furnished</th>\n",
       "      <th>Bedrooms</th>\n",
       "      <th>Bathrooms</th>\n",
       "      <th>Toilets</th>\n",
       "      <th>Unit</th>\n",
       "      <th>Amount</th>\n",
       "    </tr>\n",
       "  </thead>\n",
       "  <tbody>\n",
       "    <tr>\n",
       "      <th>0</th>\n",
       "      <td>Newly Built 4 Bedroom Semi Detached House With Bq</td>\n",
       "      <td>BEDROOM HOUSE FOR RENT</td>\n",
       "      <td>White Oak Estate, Ologolo Opp. Agungi, Ologolo...</td>\n",
       "      <td>5000000.0</td>\n",
       "      <td>0</td>\n",
       "      <td>1</td>\n",
       "      <td>0</td>\n",
       "      <td>4.0</td>\n",
       "      <td>4.0</td>\n",
       "      <td>5.0</td>\n",
       "      <td>yea</td>\n",
       "      <td>5000000.0</td>\n",
       "    </tr>\n",
       "    <tr>\n",
       "      <th>1</th>\n",
       "      <td>Superb 4 Bedroom Semi Detached Duplex With Bq</td>\n",
       "      <td>BEDROOM HOUSE FOR RENT</td>\n",
       "      <td>Hrc Estate Beside Vgc Estate, Vgc Lekki Lagos</td>\n",
       "      <td>5000000.0</td>\n",
       "      <td>0</td>\n",
       "      <td>1</td>\n",
       "      <td>0</td>\n",
       "      <td>4.0</td>\n",
       "      <td>4.0</td>\n",
       "      <td>5.0</td>\n",
       "      <td>yea</td>\n",
       "      <td>5000000.0</td>\n",
       "    </tr>\n",
       "    <tr>\n",
       "      <th>2</th>\n",
       "      <td>Furnished 2 Bedroom Terrace Duplex For Rent !!!</td>\n",
       "      <td>BEDROOM HOUSE FOR RENT</td>\n",
       "      <td>Osapa London Lekki Lagos</td>\n",
       "      <td>350000.0</td>\n",
       "      <td>1</td>\n",
       "      <td>0</td>\n",
       "      <td>0</td>\n",
       "      <td>2.0</td>\n",
       "      <td>3.0</td>\n",
       "      <td>3.0</td>\n",
       "      <td>None</td>\n",
       "      <td>350000.0</td>\n",
       "    </tr>\n",
       "  </tbody>\n",
       "</table>\n",
       "</div>"
      ],
      "text/plain": [
       "                                               Title               More Info  \\\n",
       "0  Newly Built 4 Bedroom Semi Detached House With Bq  BEDROOM HOUSE FOR RENT   \n",
       "1      Superb 4 Bedroom Semi Detached Duplex With Bq  BEDROOM HOUSE FOR RENT   \n",
       "2    Furnished 2 Bedroom Terrace Duplex For Rent !!!  BEDROOM HOUSE FOR RENT   \n",
       "\n",
       "                                            Location      Price  Serviced  \\\n",
       "0  White Oak Estate, Ologolo Opp. Agungi, Ologolo...  5000000.0         0   \n",
       "1      Hrc Estate Beside Vgc Estate, Vgc Lekki Lagos  5000000.0         0   \n",
       "2                           Osapa London Lekki Lagos   350000.0         1   \n",
       "\n",
       "   Newly Built  Furnished  Bedrooms  Bathrooms  Toilets  Unit     Amount  \n",
       "0            1          0       4.0        4.0      5.0   yea  5000000.0  \n",
       "1            1          0       4.0        4.0      5.0   yea  5000000.0  \n",
       "2            0          0       2.0        3.0      3.0  None   350000.0  "
      ]
     },
     "execution_count": 41,
     "metadata": {},
     "output_type": "execute_result"
    }
   ],
   "source": [
    "df.Bedrooms =pd.to_numeric(df['Bedrooms'].str[:1], errors='coerce')\n",
    "df.Bathrooms =pd.to_numeric(df['Bathrooms'].str[:1], errors='coerce')\n",
    "df.Toilets =pd.to_numeric(df['Toilets'].str[:1], errors='coerce')\n",
    "\n",
    "df.head(3)"
   ]
  },
  {
   "cell_type": "code",
   "execution_count": 40,
   "metadata": {},
   "outputs": [
    {
     "name": "stdout",
     "output_type": "stream",
     "text": [
      "                                                   Title  \\\n",
      "0      Newly Built 4 Bedroom Semi Detached House With Bq   \n",
      "1          Superb 4 Bedroom Semi Detached Duplex With Bq   \n",
      "2        Furnished 2 Bedroom Terrace Duplex For Rent !!!   \n",
      "3                           2 Bedroom Apartment For Rent   \n",
      "4      ?? Brand New 2 Bedroom Flat For Rent!!! (groun...   \n",
      "...                                                  ...   \n",
      "98075            4 Bedroom Duplex In Serene Neighborhood   \n",
      "98076         Lovely Built 3 Bedroom Flats Self Compound   \n",
      "98077                           Executive 2 Bedroom Flat   \n",
      "98078  Executive Brand New 2 Bedroom Flat All Rooms E...   \n",
      "98079                          3 Bedroom Flat All Ensuit   \n",
      "\n",
      "                              More Info  \\\n",
      "0                BEDROOM HOUSE FOR RENT   \n",
      "1                BEDROOM HOUSE FOR RENT   \n",
      "2                BEDROOM HOUSE FOR RENT   \n",
      "3                BEDROOM HOUSE FOR RENT   \n",
      "4                BEDROOM HOUSE FOR RENT   \n",
      "...                                 ...   \n",
      "98075            BEDROOM HOUSE FOR RENT   \n",
      "98076     BEDROOM SELF CONTAIN FOR RENT   \n",
      "98077  BEDROOM BLOCKS OF FLATS FOR RENT   \n",
      "98078  BEDROOM BLOCKS OF FLATS FOR RENT   \n",
      "98079  BEDROOM BLOCKS OF FLATS FOR RENT   \n",
      "\n",
      "                                                Location      Price  Serviced  \\\n",
      "0      White Oak Estate, Ologolo Opp. Agungi, Ologolo...  5000000.0         0   \n",
      "1          Hrc Estate Beside Vgc Estate, Vgc Lekki Lagos  5000000.0         0   \n",
      "2                               Osapa London Lekki Lagos   350000.0         1   \n",
      "3                                    Ologolo Lekki Lagos   270000.0         1   \n",
      "4                           Mojisola Onikoyi Ikoyi Lagos   500000.0         1   \n",
      "...                                                  ...        ...       ...   \n",
      "98075                             Akala Akobo Ibadan Oyo    90000.0         0   \n",
      "98076                   Oluwaga Road. Baruwa Ipaja Lagos    50000.0         0   \n",
      "98077        By Sterling Bank Magboro Obafemi Owode Ogun    33000.0         0   \n",
      "98078                             Arepo Arepo Arepo Ogun    40000.0         0   \n",
      "98079  3bedroom Flat At Jeje Area, Apete.all Rooms En...    15000.0         0   \n",
      "\n",
      "       Newly Built  Furnished Bedrooms Bathrooms    Toilets  Unit     Amount  \n",
      "0                1          0   4 beds   4 baths  5 Toilets   yea  5000000.0  \n",
      "1                1          0   4 beds   4 baths  5 Toilets   yea  5000000.0  \n",
      "2                0          0   2 beds   3 baths  3 Toilets  None   350000.0  \n",
      "3                1          0   2 beds   3 baths  3 Toilets  None   270000.0  \n",
      "4                1          0   2 beds   3 baths  3 Toilets  None   500000.0  \n",
      "...            ...        ...      ...       ...        ...   ...        ...  \n",
      "98075            0          0   4 beds   4 baths  4 Toilets  None    90000.0  \n",
      "98076            1          1   3 beds   4 baths  4 Toilets  None    50000.0  \n",
      "98077            0          1   2 beds   3 baths  3 Toilets  None    33000.0  \n",
      "98078            1          1   2 beds   3 baths  3 Toilets  None    40000.0  \n",
      "98079            0          0   3 beds   3 baths  3 Toilets  None    15000.0  \n",
      "\n",
      "[98080 rows x 12 columns]\n"
     ]
    }
   ],
   "source": [
    "def remove_number_prefix(text):\n",
    "    return re.sub(r'^\\d+\\s', '', text)\n",
    "\n",
    "# Apply the function to the 'More Info' column\n",
    "df['More Info'] = df['More Info'].apply(remove_number_prefix)\n"
   ]
  },
  {
   "cell_type": "code",
   "execution_count": 31,
   "metadata": {},
   "outputs": [
    {
     "data": {
      "text/html": [
       "<div>\n",
       "<style scoped>\n",
       "    .dataframe tbody tr th:only-of-type {\n",
       "        vertical-align: middle;\n",
       "    }\n",
       "\n",
       "    .dataframe tbody tr th {\n",
       "        vertical-align: top;\n",
       "    }\n",
       "\n",
       "    .dataframe thead th {\n",
       "        text-align: right;\n",
       "    }\n",
       "</style>\n",
       "<table border=\"1\" class=\"dataframe\">\n",
       "  <thead>\n",
       "    <tr style=\"text-align: right;\">\n",
       "      <th></th>\n",
       "      <th>Title</th>\n",
       "      <th>More Info</th>\n",
       "      <th>Location</th>\n",
       "      <th>Price</th>\n",
       "      <th>Serviced</th>\n",
       "      <th>Newly Built</th>\n",
       "      <th>Furnished</th>\n",
       "      <th>Bedrooms</th>\n",
       "      <th>Bathrooms</th>\n",
       "      <th>Toilets</th>\n",
       "      <th>Unit</th>\n",
       "    </tr>\n",
       "  </thead>\n",
       "  <tbody>\n",
       "    <tr>\n",
       "      <th>0</th>\n",
       "      <td>Newly Built 4 Bedroom Semi Detached House With Bq</td>\n",
       "      <td>4 BEDROOM HOUSE FOR RENT</td>\n",
       "      <td>White Oak Estate, Ologolo Opp. Agungi, Ologolo...</td>\n",
       "      <td>5,000,000</td>\n",
       "      <td>0</td>\n",
       "      <td>1</td>\n",
       "      <td>0</td>\n",
       "      <td>4 beds</td>\n",
       "      <td>4 baths</td>\n",
       "      <td>5 Toilets</td>\n",
       "      <td>yea</td>\n",
       "    </tr>\n",
       "    <tr>\n",
       "      <th>1</th>\n",
       "      <td>Superb 4 Bedroom Semi Detached Duplex With Bq</td>\n",
       "      <td>4 BEDROOM HOUSE FOR RENT</td>\n",
       "      <td>Hrc Estate Beside Vgc Estate, Vgc Lekki Lagos</td>\n",
       "      <td>5,000,000</td>\n",
       "      <td>0</td>\n",
       "      <td>1</td>\n",
       "      <td>0</td>\n",
       "      <td>4 beds</td>\n",
       "      <td>4 baths</td>\n",
       "      <td>5 Toilets</td>\n",
       "      <td>yea</td>\n",
       "    </tr>\n",
       "    <tr>\n",
       "      <th>2</th>\n",
       "      <td>Furnished 2 Bedroom Terrace Duplex For Rent !!!</td>\n",
       "      <td>2 BEDROOM HOUSE FOR RENT</td>\n",
       "      <td>Osapa London Lekki Lagos</td>\n",
       "      <td>3,500,00</td>\n",
       "      <td>1</td>\n",
       "      <td>0</td>\n",
       "      <td>0</td>\n",
       "      <td>2 beds</td>\n",
       "      <td>3 baths</td>\n",
       "      <td>3 Toilets</td>\n",
       "      <td>None</td>\n",
       "    </tr>\n",
       "  </tbody>\n",
       "</table>\n",
       "</div>"
      ],
      "text/plain": [
       "                                               Title  \\\n",
       "0  Newly Built 4 Bedroom Semi Detached House With Bq   \n",
       "1      Superb 4 Bedroom Semi Detached Duplex With Bq   \n",
       "2    Furnished 2 Bedroom Terrace Duplex For Rent !!!   \n",
       "\n",
       "                  More Info  \\\n",
       "0  4 BEDROOM HOUSE FOR RENT   \n",
       "1  4 BEDROOM HOUSE FOR RENT   \n",
       "2  2 BEDROOM HOUSE FOR RENT   \n",
       "\n",
       "                                            Location      Price  Serviced  \\\n",
       "0  White Oak Estate, Ologolo Opp. Agungi, Ologolo...  5,000,000         0   \n",
       "1      Hrc Estate Beside Vgc Estate, Vgc Lekki Lagos  5,000,000         0   \n",
       "2                           Osapa London Lekki Lagos   3,500,00         1   \n",
       "\n",
       "   Newly Built  Furnished Bedrooms Bathrooms    Toilets  Unit  \n",
       "0            1          0   4 beds   4 baths  5 Toilets   yea  \n",
       "1            1          0   4 beds   4 baths  5 Toilets   yea  \n",
       "2            0          0   2 beds   3 baths  3 Toilets  None  "
      ]
     },
     "execution_count": 31,
     "metadata": {},
     "output_type": "execute_result"
    }
   ],
   "source": [
    "df[['Price','Unit']]=df['Price'].str[0:-1].str.split('/',expand=True)\n",
    "df.head(3)"
   ]
  },
  {
   "cell_type": "code",
   "execution_count": 38,
   "metadata": {},
   "outputs": [
    {
     "data": {
      "text/plain": [
       "dtype('float64')"
      ]
     },
     "execution_count": 38,
     "metadata": {},
     "output_type": "execute_result"
    }
   ],
   "source": [
    "df['Price'].dtype"
   ]
  },
  {
   "cell_type": "code",
   "execution_count": 15,
   "metadata": {},
   "outputs": [
    {
     "data": {
      "text/plain": [
       "array(['yea', None, 'sq', 'da', 'mont'], dtype=object)"
      ]
     },
     "execution_count": 15,
     "metadata": {},
     "output_type": "execute_result"
    }
   ],
   "source": [
    "df['Unit'].unique()"
   ]
  },
  {
   "cell_type": "code",
   "execution_count": 33,
   "metadata": {},
   "outputs": [],
   "source": [
    "df['Price'] = df['Price'].str.replace(',', '').replace('', '0').astype(float)\n",
    "\n",
    "# Calculate the 'Amount' column based on the 'Unit' column\n",
    "df['Amount'] = df.apply(\n",
    "    lambda row: row['Price'] * 365.24 if row['Unit'] == 'da' \n",
    "    else (row['Price'] * 12 if row['Unit'] == 'mont' \n",
    "    else row['Price']), axis=1)"
   ]
  },
  {
   "cell_type": "code",
   "execution_count": 43,
   "metadata": {},
   "outputs": [
    {
     "data": {
      "text/plain": [
       "array(['BEDROOM HOUSE FOR RENT', 'BEDROOM FLAT / APARTMENT FOR RENT',\n",
       "       'FLAT / APARTMENT FOR RENT', 'COMMERCIAL PROPERTY FOR RENT',\n",
       "       'HOUSE FOR RENT', 'BEDROOM COMMERCIAL PROPERTY FOR RENT',\n",
       "       'CO WORKING SPACE FOR RENT', 'LAND FOR RENT',\n",
       "       'BEDROOM LAND FOR RENT', 'BEDROOM CO WORKING SPACE FOR RENT',\n",
       "       'SELF CONTAIN FLAT / APARTMENT FOR RENT',\n",
       "       'BEDROOM DETACHED DUPLEX HOUSE FOR RENT',\n",
       "       'BEDROOM MINI FLAT MINI FLAT FLAT / APARTMENT FOR RENT',\n",
       "       'BEDROOM TERRACED DUPLEX HOUSE FOR RENT',\n",
       "       'BEDROOM MINI FLAT FOR RENT', 'BEDROOM STUDIO APARTMENT FOR RENT',\n",
       "       'BEDROOM TERRACED DUPLEX FOR RENT',\n",
       "       'BEDROOM SELF CONTAIN FOR RENT',\n",
       "       'BEDROOM DETACHED DUPLEX FOR RENT', 'SELF CONTAIN FOR RENT',\n",
       "       'PRIVATE OFFICE FOR RENT', 'SHOP FOR RENT',\n",
       "       'OFFICE SPACE FOR RENT', 'MEETING ROOM FOR RENT',\n",
       "       'DETACHED DUPLEX FOR RENT', 'TERRACED DUPLEX FOR RENT',\n",
       "       'SEMI DETACHED DUPLEX FOR RENT', 'SHOW ROOM FOR RENT',\n",
       "       'BLOCKS OF FLATS FOR RENT', 'JOINT VENTURE LAND FOR RENT',\n",
       "       'COMMERCIAL LAND FOR RENT', 'MINI FLAT FOR RENT',\n",
       "       'WAREHOUSE FOR RENT', 'SHARED APARTMENT FOR RENT',\n",
       "       'SHOP IN A MALL FOR RENT', 'SEMI DETACHED BUNGALOW FOR RENT',\n",
       "       'BEDROOM BLOCKS OF FLATS FOR RENT',\n",
       "       'BEDROOM SEMI DETACHED DUPLEX FOR RENT',\n",
       "       'BEDROOM BOYS QUARTERS FOR RENT', 'BEDROOM PENTHOUSE FOR RENT',\n",
       "       'BEDROOM MASSIONETTE FOR RENT',\n",
       "       'BEDROOM SHARED APARTMENT FOR RENT',\n",
       "       'BEDROOM DETACHED BUNGALOW FOR RENT',\n",
       "       'BEDROOM OFFICE SPACE FOR RENT', 'BEDROOM WAREHOUSE FOR RENT',\n",
       "       'BEDROOM SEMI DETACHED BUNGALOW FOR RENT',\n",
       "       'BEDROOM HOTEL/GUEST HOUSE FOR RENT',\n",
       "       'BEDROOM TERRACED BUNGALOW FOR RENT',\n",
       "       'BEDROOM SHOP IN A MALL FOR RENT', 'BEDROOM SHOP FOR RENT',\n",
       "       'BEDROOM MIXED USE LAND FOR RENT', 'BEDROOM SHOW ROOM FOR RENT',\n",
       "       'BEDROOM PRIVATE OFFICE FOR RENT', 'BEDROOM SCHOOL FOR RENT',\n",
       "       'BEDROOM DESK FOR RENT', 'BLOCK OF FLAT FOR RENT',\n",
       "       'BEDROOM CONFERENCE ROOM FOR RENT', 'DETACHED BUNGALOW FOR RENT',\n",
       "       'RESIDENTIAL LAND FOR RENT', 'BEDROOM WORKSTATION FOR RENT',\n",
       "       'PENTHOUSE FOR RENT', 'BEDROOM DETACHED HOUSE FOR RENT',\n",
       "       'BEDROOM BLOCK OF FLAT FOR RENT', 'DETACHED HOUSE FOR RENT',\n",
       "       'CHURCH COMMERCIAL PROPERTY FOR RENT',\n",
       "       'OFFICE SPACE COMMERCIAL PROPERTY FOR RENT',\n",
       "       'BEDROOM EVENT CENTRE FOR RENT', 'BEDROOM DUPLEX FOR RENT',\n",
       "       'STUDIO APARTMENT FOR RENT', 'BEDROOM FACE TO FACE FOR RENT',\n",
       "       'BEDROOM BLOCKS OF FLATS HOUSE FOR RENT',\n",
       "       'BEDROOM SHARED APARTMENT FLAT / APARTMENT FOR RENT',\n",
       "       'MINI FLAT FLAT / APARTMENT FOR RENT',\n",
       "       'RESIDENTIAL LAND LAND FOR RENT',\n",
       "       'BEDROOM MINI FLAT SELF CONTAIN FLAT / APARTMENT FOR RENT',\n",
       "       'BEDROOM MINI FLAT FLAT / APARTMENT FOR RENT',\n",
       "       'BEDROOM MINI FLAT SHARED APARTMENT FLAT / APARTMENT FOR RENT',\n",
       "       'BEDROOM PENTHOUSE FLAT / APARTMENT FOR RENT',\n",
       "       'BEDROOM CHURCH FOR RENT',\n",
       "       'BEDROOM TERRACED BUNGALOW HOUSE FOR RENT',\n",
       "       'COMMERCIAL LAND LAND FOR RENT',\n",
       "       'BEDROOM SEMI DETACHED DUPLEX HOUSE FOR RENT',\n",
       "       'MIXED USE LAND LAND FOR RENT',\n",
       "       'BEDROOM DETACHED BUNGALOW HOUSE FOR RENT',\n",
       "       'BEDROOM MINI FLAT DETACHED DUPLEX HOUSE FOR RENT',\n",
       "       'BEDROOM COMMERCIAL LAND FOR RENT', 'SCHOOL FOR RENT',\n",
       "       'WORKSTATION FOR RENT',\n",
       "       'BEDROOM SEMI DETACHED BUNGALOW HOUSE FOR RENT',\n",
       "       'MIXED USE LAND FOR RENT', 'BEDROOM MASSIONETTE HOUSE FOR RENT',\n",
       "       'HOTEL/GUEST HOUSE FOR RENT',\n",
       "       'BEDROOM SELF CONTAIN FLAT / APARTMENT FOR RENT',\n",
       "       'BEDROOM OFFICE SPACE COMMERCIAL PROPERTY FOR RENT',\n",
       "       'SEMI DETACHED DUPLEX HOUSE FOR RENT',\n",
       "       'DETACHED DUPLEX HOUSE FOR RENT',\n",
       "       'SHOP COMMERCIAL PROPERTY FOR RENT',\n",
       "       'TERRACED DUPLEX HOUSE FOR RENT',\n",
       "       'BEDROOM MINI FLAT DETACHED BUNGALOW HOUSE FOR RENT',\n",
       "       'BEDROOM MINI FLAT SHOP COMMERCIAL PROPERTY FOR RENT',\n",
       "       'BEDROOM MINI FLAT STUDIO APARTMENT FLAT / APARTMENT FOR RENT',\n",
       "       'SHOP IN A MALL COMMERCIAL PROPERTY FOR RENT', 'MANSION FOR RENT',\n",
       "       'DUPLEX FOR RENT',\n",
       "       'BEDROOM SHOP IN A MALL COMMERCIAL PROPERTY FOR RENT',\n",
       "       'JOINT VENTURE LAND LAND FOR RENT',\n",
       "       'WAREHOUSE COMMERCIAL PROPERTY FOR RENT',\n",
       "       'SEMI DETACHED BUNGALOW HOUSE FOR RENT',\n",
       "       'BLOCKS OF FLATS HOUSE FOR RENT',\n",
       "       'BEDROOM MINI FLAT TERRACED DUPLEX HOUSE FOR RENT',\n",
       "       'BEDROOM FACTORY FOR RENT', 'BEDROOM RESIDENTIAL LAND FOR RENT',\n",
       "       'BEDROOM SHOP COMMERCIAL PROPERTY FOR RENT',\n",
       "       'BEDROOM BOYS QUARTERS FLAT / APARTMENT FOR RENT',\n",
       "       'BEDROOM MINI FLAT OFFICE SPACE COMMERCIAL PROPERTY FOR RENT',\n",
       "       'BEDROOM STUDIO APARTMENT FLAT / APARTMENT FOR RENT',\n",
       "       'BEDROOM MINI FLAT BOYS QUARTERS FLAT / APARTMENT FOR RENT',\n",
       "       'BEDROOM MINI FLAT SHOP IN A MALL COMMERCIAL PROPERTY FOR RENT',\n",
       "       'TANK FARM COMMERCIAL PROPERTY FOR RENT',\n",
       "       'MASSIONETTE HOUSE FOR RENT', 'EVENT CENTRE FOR RENT',\n",
       "       'BEDROOM HOTEL/GUEST HOUSE COMMERCIAL PROPERTY FOR RENT',\n",
       "       'BEDROOM MINI FLAT PENTHOUSE FLAT / APARTMENT FOR RENT',\n",
       "       'BEDROOM MINI FLAT HOUSE FOR RENT',\n",
       "       'BEDROOM EVENT CENTRE COMMERCIAL PROPERTY FOR RENT',\n",
       "       'FACTORY FOR RENT', 'SHOW ROOM COMMERCIAL PROPERTY FOR RENT',\n",
       "       'BEDROOM MINI FLAT BLOCKS OF FLATS HOUSE FOR RENT',\n",
       "       'HOTEL/GUEST HOUSE COMMERCIAL PROPERTY FOR RENT',\n",
       "       'DETACHED BUNGALOW HOUSE FOR RENT',\n",
       "       'BEDROOM RESIDENTIAL LAND LAND FOR RENT',\n",
       "       'BEDROOM MINI FLAT MEETING ROOM CO WORKING SPACE FOR RENT',\n",
       "       'PRIVATE OFFICE CO WORKING SPACE FOR RENT',\n",
       "       'WORKSTATION CO WORKING SPACE FOR RENT',\n",
       "       'DESK CO WORKING SPACE FOR RENT',\n",
       "       'STUDIO APARTMENT FLAT / APARTMENT FOR RENT',\n",
       "       'BEDROOM MINI FLAT COMMERCIAL PROPERTY FOR RENT',\n",
       "       'BEDROOM MINI FLAT CONFERENCE ROOM CO WORKING SPACE FOR RENT',\n",
       "       'CONFERENCE ROOM CO WORKING SPACE FOR RENT',\n",
       "       'SHARED APARTMENT FLAT / APARTMENT FOR RENT',\n",
       "       'SCHOOL COMMERCIAL PROPERTY FOR RENT',\n",
       "       'EVENT CENTRE COMMERCIAL PROPERTY FOR RENT',\n",
       "       'BEDROOM JOINT VENTURE LAND LAND FOR RENT',\n",
       "       'BEDROOM CHURCH COMMERCIAL PROPERTY FOR RENT',\n",
       "       'FACTORY COMMERCIAL PROPERTY FOR RENT',\n",
       "       'BEDROOM MINI FLAT WORKSTATION CO WORKING SPACE FOR RENT',\n",
       "       'BEDROOM SHOW ROOM COMMERCIAL PROPERTY FOR RENT',\n",
       "       'BEDROOM PRIVATE OFFICE CO WORKING SPACE FOR RENT',\n",
       "       'BEDROOM MINI FLAT BLOCK OF FLAT FOR RENT',\n",
       "       'BEDROOM MINI FLAT SEMI DETACHED DUPLEX HOUSE FOR RENT',\n",
       "       'BEDROOM SCHOOL COMMERCIAL PROPERTY FOR RENT',\n",
       "       'BEDROOM WAREHOUSE COMMERCIAL PROPERTY FOR RENT',\n",
       "       'BEDROOM MINI FLAT PRIVATE OFFICE CO WORKING SPACE FOR RENT',\n",
       "       'BEDROOM FACTORY COMMERCIAL PROPERTY FOR RENT',\n",
       "       'PENTHOUSE FLAT / APARTMENT FOR RENT',\n",
       "       'SERVICED RESIDENTIAL LAND FOR RENT',\n",
       "       'BEDROOM MINI FLAT MASSIONETTE HOUSE FOR RENT',\n",
       "       'BEDROOM MINI FLAT SEMI DETACHED BUNGALOW HOUSE FOR RENT',\n",
       "       'SERVICED RESIDENTIAL LAND LAND FOR RENT',\n",
       "       'BOYS QUARTERS FLAT / APARTMENT FOR RENT',\n",
       "       'BEDROOM MINI FLAT TERRACED BUNGALOW HOUSE FOR RENT',\n",
       "       'CONFERENCE ROOM FOR RENT',\n",
       "       'BEDROOM MINI FLAT WAREHOUSE COMMERCIAL PROPERTY FOR RENT',\n",
       "       'TERRACED BUNGALOW HOUSE FOR RENT', 'BEDROOM BUNGALOW FOR RENT',\n",
       "       'BEDROOM TERRACE FOR RENT',\n",
       "       'BEDROOM CONFERENCE ROOM CO WORKING SPACE FOR RENT',\n",
       "       'BEDROOM MINI FLAT STUDIO APARTMENT FOR RENT',\n",
       "       'BEDROOM MINI FLAT SHOW ROOM COMMERCIAL PROPERTY FOR RENT',\n",
       "       'CHURCH FOR RENT', 'BOYS QUARTERS FOR RENT',\n",
       "       'BEDROOM WORKSTATION CO WORKING SPACE FOR RENT',\n",
       "       'BEDROOM PENT HOUSE FOR RENT'], dtype=object)"
      ]
     },
     "execution_count": 43,
     "metadata": {},
     "output_type": "execute_result"
    }
   ],
   "source": [
    "df['More Info'].unique()"
   ]
  },
  {
   "cell_type": "code",
   "execution_count": 47,
   "metadata": {},
   "outputs": [
    {
     "name": "stdout",
     "output_type": "stream",
     "text": [
      "0                  HOUSE FOR RENT\n",
      "1                  HOUSE FOR RENT\n",
      "2                  HOUSE FOR RENT\n",
      "3                  HOUSE FOR RENT\n",
      "4                  HOUSE FOR RENT\n",
      "                   ...           \n",
      "98075              HOUSE FOR RENT\n",
      "98076       SELF CONTAIN FOR RENT\n",
      "98077    BLOCKS OF FLATS FOR RENT\n",
      "98078    BLOCKS OF FLATS FOR RENT\n",
      "98079    BLOCKS OF FLATS FOR RENT\n",
      "Name: More Info, Length: 98080, dtype: object\n"
     ]
    }
   ],
   "source": [
    "df['More Info'] = df['More Info'].str.replace('BEDROOM ', '')\n",
    "\n",
    "print(df['More Info'])"
   ]
  },
  {
   "cell_type": "code",
   "execution_count": 161,
   "metadata": {},
   "outputs": [
    {
     "data": {
      "text/plain": [
       "15"
      ]
     },
     "execution_count": 161,
     "metadata": {},
     "output_type": "execute_result"
    }
   ],
   "source": [
    "len(df['More Info'].unique())"
   ]
  },
  {
   "cell_type": "code",
   "execution_count": 49,
   "metadata": {},
   "outputs": [
    {
     "data": {
      "text/plain": [
       "array(['HOUSE FOR RENT', 'FLAT / APARTMENT FOR RENT',\n",
       "       'COMMERCIAL PROPERTY FOR RENT', 'CO WORKING SPACE FOR RENT',\n",
       "       'LAND FOR RENT', 'SELF CONTAIN FLAT / APARTMENT FOR RENT',\n",
       "       'DETACHED DUPLEX HOUSE FOR RENT',\n",
       "       'MINI FLAT MINI FLAT FLAT / APARTMENT FOR RENT',\n",
       "       'TERRACED DUPLEX HOUSE FOR RENT', 'MINI FLAT FOR RENT',\n",
       "       'STUDIO APARTMENT FOR RENT', 'TERRACED DUPLEX FOR RENT',\n",
       "       'SELF CONTAIN FOR RENT', 'DETACHED DUPLEX FOR RENT',\n",
       "       'PRIVATE OFFICE FOR RENT', 'SHOP FOR RENT',\n",
       "       'OFFICE SPACE FOR RENT', 'MEETING ROOM FOR RENT',\n",
       "       'SEMI DETACHED DUPLEX FOR RENT', 'SHOW ROOM FOR RENT',\n",
       "       'BLOCKS OF FLATS FOR RENT', 'JOINT VENTURE LAND FOR RENT',\n",
       "       'COMMERCIAL LAND FOR RENT', 'WAREHOUSE FOR RENT',\n",
       "       'SHARED APARTMENT FOR RENT', 'SHOP IN A MALL FOR RENT',\n",
       "       'SEMI DETACHED BUNGALOW FOR RENT', 'BOYS QUARTERS FOR RENT',\n",
       "       'PENTHOUSE FOR RENT', 'MASSIONETTE FOR RENT',\n",
       "       'DETACHED BUNGALOW FOR RENT', 'HOTEL/GUEST HOUSE FOR RENT',\n",
       "       'TERRACED BUNGALOW FOR RENT', 'MIXED USE LAND FOR RENT',\n",
       "       'SCHOOL FOR RENT', 'DESK FOR RENT', 'BLOCK OF FLAT FOR RENT',\n",
       "       'CONFERENCE ROOM FOR RENT', 'RESIDENTIAL LAND FOR RENT',\n",
       "       'WORKSTATION FOR RENT', 'DETACHED HOUSE FOR RENT',\n",
       "       'CHURCH COMMERCIAL PROPERTY FOR RENT',\n",
       "       'OFFICE SPACE COMMERCIAL PROPERTY FOR RENT',\n",
       "       'EVENT CENTRE FOR RENT', 'DUPLEX FOR RENT',\n",
       "       'FACE TO FACE FOR RENT', 'BLOCKS OF FLATS HOUSE FOR RENT',\n",
       "       'SHARED APARTMENT FLAT / APARTMENT FOR RENT',\n",
       "       'MINI FLAT FLAT / APARTMENT FOR RENT',\n",
       "       'RESIDENTIAL LAND LAND FOR RENT',\n",
       "       'MINI FLAT SELF CONTAIN FLAT / APARTMENT FOR RENT',\n",
       "       'MINI FLAT SHARED APARTMENT FLAT / APARTMENT FOR RENT',\n",
       "       'PENTHOUSE FLAT / APARTMENT FOR RENT', 'CHURCH FOR RENT',\n",
       "       'TERRACED BUNGALOW HOUSE FOR RENT',\n",
       "       'COMMERCIAL LAND LAND FOR RENT',\n",
       "       'SEMI DETACHED DUPLEX HOUSE FOR RENT',\n",
       "       'MIXED USE LAND LAND FOR RENT', 'DETACHED BUNGALOW HOUSE FOR RENT',\n",
       "       'MINI FLAT DETACHED DUPLEX HOUSE FOR RENT',\n",
       "       'SEMI DETACHED BUNGALOW HOUSE FOR RENT',\n",
       "       'MASSIONETTE HOUSE FOR RENT', 'SHOP COMMERCIAL PROPERTY FOR RENT',\n",
       "       'MINI FLAT DETACHED BUNGALOW HOUSE FOR RENT',\n",
       "       'MINI FLAT SHOP COMMERCIAL PROPERTY FOR RENT',\n",
       "       'MINI FLAT STUDIO APARTMENT FLAT / APARTMENT FOR RENT',\n",
       "       'SHOP IN A MALL COMMERCIAL PROPERTY FOR RENT', 'MANSION FOR RENT',\n",
       "       'JOINT VENTURE LAND LAND FOR RENT',\n",
       "       'WAREHOUSE COMMERCIAL PROPERTY FOR RENT',\n",
       "       'MINI FLAT TERRACED DUPLEX HOUSE FOR RENT', 'FACTORY FOR RENT',\n",
       "       'BOYS QUARTERS FLAT / APARTMENT FOR RENT',\n",
       "       'MINI FLAT OFFICE SPACE COMMERCIAL PROPERTY FOR RENT',\n",
       "       'STUDIO APARTMENT FLAT / APARTMENT FOR RENT',\n",
       "       'MINI FLAT BOYS QUARTERS FLAT / APARTMENT FOR RENT',\n",
       "       'MINI FLAT SHOP IN A MALL COMMERCIAL PROPERTY FOR RENT',\n",
       "       'TANK FARM COMMERCIAL PROPERTY FOR RENT',\n",
       "       'HOTEL/GUEST HOUSE COMMERCIAL PROPERTY FOR RENT',\n",
       "       'MINI FLAT PENTHOUSE FLAT / APARTMENT FOR RENT',\n",
       "       'MINI FLAT HOUSE FOR RENT',\n",
       "       'EVENT CENTRE COMMERCIAL PROPERTY FOR RENT',\n",
       "       'SHOW ROOM COMMERCIAL PROPERTY FOR RENT',\n",
       "       'MINI FLAT BLOCKS OF FLATS HOUSE FOR RENT',\n",
       "       'MINI FLAT MEETING ROOM CO WORKING SPACE FOR RENT',\n",
       "       'PRIVATE OFFICE CO WORKING SPACE FOR RENT',\n",
       "       'WORKSTATION CO WORKING SPACE FOR RENT',\n",
       "       'DESK CO WORKING SPACE FOR RENT',\n",
       "       'MINI FLAT COMMERCIAL PROPERTY FOR RENT',\n",
       "       'MINI FLAT CONFERENCE ROOM CO WORKING SPACE FOR RENT',\n",
       "       'CONFERENCE ROOM CO WORKING SPACE FOR RENT',\n",
       "       'SCHOOL COMMERCIAL PROPERTY FOR RENT',\n",
       "       'FACTORY COMMERCIAL PROPERTY FOR RENT',\n",
       "       'MINI FLAT WORKSTATION CO WORKING SPACE FOR RENT',\n",
       "       'MINI FLAT BLOCK OF FLAT FOR RENT',\n",
       "       'MINI FLAT SEMI DETACHED DUPLEX HOUSE FOR RENT',\n",
       "       'MINI FLAT PRIVATE OFFICE CO WORKING SPACE FOR RENT',\n",
       "       'SERVICED RESIDENTIAL LAND FOR RENT',\n",
       "       'MINI FLAT MASSIONETTE HOUSE FOR RENT',\n",
       "       'MINI FLAT SEMI DETACHED BUNGALOW HOUSE FOR RENT',\n",
       "       'SERVICED RESIDENTIAL LAND LAND FOR RENT',\n",
       "       'MINI FLAT TERRACED BUNGALOW HOUSE FOR RENT',\n",
       "       'MINI FLAT WAREHOUSE COMMERCIAL PROPERTY FOR RENT',\n",
       "       'BUNGALOW FOR RENT', 'TERRACE FOR RENT',\n",
       "       'MINI FLAT STUDIO APARTMENT FOR RENT',\n",
       "       'MINI FLAT SHOW ROOM COMMERCIAL PROPERTY FOR RENT',\n",
       "       'PENT HOUSE FOR RENT'], dtype=object)"
      ]
     },
     "execution_count": 49,
     "metadata": {},
     "output_type": "execute_result"
    }
   ],
   "source": [
    "df['More Info'].unique()"
   ]
  },
  {
   "cell_type": "code",
   "execution_count": 34,
   "metadata": {},
   "outputs": [
    {
     "data": {
      "text/plain": [
       "0        5000000.0\n",
       "1        5000000.0\n",
       "2         350000.0\n",
       "3         270000.0\n",
       "4         500000.0\n",
       "           ...    \n",
       "98075      90000.0\n",
       "98076      50000.0\n",
       "98077      33000.0\n",
       "98078      40000.0\n",
       "98079      15000.0\n",
       "Name: Amount, Length: 98080, dtype: float64"
      ]
     },
     "execution_count": 34,
     "metadata": {},
     "output_type": "execute_result"
    }
   ],
   "source": [
    "df.Amount"
   ]
  },
  {
   "cell_type": "code",
   "execution_count": 54,
   "metadata": {},
   "outputs": [],
   "source": [
    "df=df.drop(['Unit','Title','Price'],axis=1)\n",
    "df.head(3)"
   ]
  },
  {
   "cell_type": "code",
   "execution_count": 57,
   "metadata": {},
   "outputs": [
    {
     "data": {
      "text/plain": [
       "array(['White Oak Estate, Ologolo Opp. Agungi, Ologolo Lekki Lagos',\n",
       "       'Hrc Estate Beside Vgc Estate, Vgc Lekki Lagos',\n",
       "       'Osapa London Lekki Lagos', ...,\n",
       "       'Oluwaga Road. Baruwa Ipaja Lagos',\n",
       "       'By Sterling Bank Magboro Obafemi Owode Ogun',\n",
       "       '3bedroom Flat At Jeje Area, Apete.all Rooms Ensuit,tiles With Running Water. Rent 150k, Caution 10k, Agreement 10k, Agency & Legal 30k. Tp 210 Eleyele Ibadan Oyo'],\n",
       "      dtype=object)"
      ]
     },
     "execution_count": 57,
     "metadata": {},
     "output_type": "execute_result"
    }
   ],
   "source": [
    "df.Location.unique()"
   ]
  },
  {
   "cell_type": "code",
   "execution_count": 56,
   "metadata": {},
   "outputs": [
    {
     "data": {
      "text/plain": [
       "32556"
      ]
     },
     "execution_count": 56,
     "metadata": {},
     "output_type": "execute_result"
    }
   ],
   "source": [
    "len(df.Location.unique())"
   ]
  },
  {
   "cell_type": "markdown",
   "metadata": {},
   "source": [
    "**Cleaning the ['More Info'] column**"
   ]
  },
  {
   "cell_type": "code",
   "execution_count": null,
   "metadata": {},
   "outputs": [],
   "source": [
    "# Find rows where any column contains the word \"flat\" (case-insensitive)\n",
    "flat_rows = df[df.apply(lambda row: row.astype(str).str.lower().str.contains('flat').any(), axis=1)]\n",
    "\n",
    "print(flat_rows)"
   ]
  },
  {
   "cell_type": "code",
   "execution_count": 155,
   "metadata": {},
   "outputs": [
    {
     "data": {
      "text/plain": [
       "array(['House', 'Flat', 'Show Room/Shop', 'Work Space', 'Land/Farm',\n",
       "       'Self Contained', 'Pent/Duplex', 'Studio', 'Warehouse', 'Bungalow',\n",
       "       'Boys Quarters', 'Mansionette', 'Hotel/Guest and Event Centre',\n",
       "       'School', 'Church'], dtype=object)"
      ]
     },
     "execution_count": 155,
     "metadata": {},
     "output_type": "execute_result"
    }
   ],
   "source": [
    "df['More Info'].unique()"
   ]
  },
  {
   "cell_type": "code",
   "execution_count": 146,
   "metadata": {},
   "outputs": [
    {
     "name": "stdout",
     "output_type": "stream",
     "text": [
      "['HOUSE FOR RENT' 'Warehouse' 'DETACHED HOUSE FOR RENT'\n",
      " 'TERRACED BUNGALOW HOUSE FOR RENT' 'DETACHED BUNGALOW HOUSE FOR RENT'\n",
      " 'SEMI DETACHED BUNGALOW HOUSE FOR RENT' 'PENT HOUSE FOR RENT']\n"
     ]
    }
   ],
   "source": [
    "# Find rows where 'More Info' column contains the word \"flat\" (case-insensitive)\n",
    "flat_row = df[df['More Info'].str.lower().str.contains('flat')]\n",
    "\n",
    "flat_row=flat_row['More Info'].unique()\n",
    "print(flat_row)"
   ]
  },
  {
   "cell_type": "code",
   "execution_count": 142,
   "metadata": {},
   "outputs": [],
   "source": [
    "df['More Info']=df['More Info'].replace(['FLAT / APARTMENT FOR RENT',\n",
    "       'MINI FLAT MINI FLAT FLAT / APARTMENT FOR RENT',\n",
    "       'MINI FLAT FLAT / APARTMENT FOR RENT',\n",
    "       'MINI FLAT FOR RENT',\n",
    "       'MINI FLAT HOUSE FOR RENT',\n",
    "       'SHARED APARTMENT FLAT / APARTMENT FOR RENT',\n",
    "       'MINI FLAT FLAT / APARTMENT FOR RENT',\n",
    "       'SHARED APARTMENT FOR RENT',\n",
    "       'MINI FLAT HOUSE FOR RENT',\n",
    "       'MINI FLAT DETACHED BUNGALOW HOUSE FOR RENT'\n",
    "       'MINI FLAT SEMI DETACHED BUNGALOW HOUSE FOR RENT',\n",
    "       'MINI FLAT DETACHED BUNGALOW HOUSE FOR RENT',      \n",
    "       'MINI FLAT TERRACED BUNGALOW HOUSE FOR RENT',\n",
    "       'SHARED APARTMENT FLAT / APARTMENT FOR RENT',\n",
    "       'MINI FLAT SHARED APARTMENT FLAT / APARTMENT FOR RENT',\n",
    "       'MINI FLAT COMMERCIAL PROPERTY FOR RENT'],'Flat')"
   ]
  },
  {
   "cell_type": "code",
   "execution_count": 123,
   "metadata": {},
   "outputs": [],
   "source": [
    "df['More Info']=df['More Info'].replace(['STUDIO APARTMENT FOR RENT',\n",
    "       'MINI FLAT STUDIO APARTMENT FLAT / APARTMENT FOR RENT',\n",
    "       'STUDIO APARTMENT FLAT / APARTMENT FOR RENT',\n",
    "       'MINI FLAT STUDIO APARTMENT FOR RENT'],'Studio')"
   ]
  },
  {
   "cell_type": "code",
   "execution_count": 154,
   "metadata": {},
   "outputs": [],
   "source": [
    "df['More Info']=df['More Info'].replace(['DETACHED DUPLEX HOUSE FOR RENT', 'TERRACED DUPLEX HOUSE FOR RENT',\n",
    "       'TERRACED DUPLEX FOR RENT', \n",
    "       'DETACHED DUPLEX FOR RENT',\n",
    "       'SEMI DETACHED DUPLEX FOR RENT', \n",
    "       'DUPLEX FOR RENT',\n",
    "       'SEMI DETACHED DUPLEX HOUSE FOR RENT',\n",
    "       'MINI FLAT DETACHED DUPLEX HOUSE FOR RENT',\n",
    "       'MINI FLAT TERRACED DUPLEX HOUSE FOR RENT',\n",
    "       'MINI FLAT SEMI DETACHED DUPLEX HOUSE FOR RENT',\n",
    "       'PENTHOUSE FOR RENT',\n",
    "       'PENT HOUSE FOR RENT',\n",
    "       'TERRACE FOR RENT',\n",
    "       'PENTHOUSE FLAT / APARTMENT FOR RENT',\n",
    "       'MINI FLAT PENTHOUSE FLAT / APARTMENT FOR RENT'],'Pent/Duplex')"
   ]
  },
  {
   "cell_type": "code",
   "execution_count": 125,
   "metadata": {},
   "outputs": [],
   "source": [
    "df['More Info']=df['More Info'].replace(['BOYS QUARTERS FOR RENT',\n",
    "       'BOYS QUARTERS FLAT / APARTMENT FOR RENT',\n",
    "       'MINI FLAT BOYS QUARTERS FLAT / APARTMENT FOR RENT'],'Boys Quarters')"
   ]
  },
  {
   "cell_type": "code",
   "execution_count": 127,
   "metadata": {},
   "outputs": [],
   "source": [
    "df['More Info']=df['More Info'].replace(['SHOP FOR RENT', \n",
    "       'SHOP IN A MALL FOR RENT',\n",
    "       'SHOP COMMERCIAL PROPERTY FOR RENT',\n",
    "       'MINI FLAT SHOP COMMERCIAL PROPERTY FOR RENT',\n",
    "       'SHOP IN A MALL COMMERCIAL PROPERTY FOR RENT',\n",
    "       'MINI FLAT SHOP IN A MALL COMMERCIAL PROPERTY FOR RENT',\n",
    "       'SHOW ROOM FOR RENT', \n",
    "       'SHOW ROOM COMMERCIAL PROPERTY FOR RENT',\n",
    "       'COMMERCIAL PROPERTY FOR RENT',\n",
    "       'MINI FLAT SHOW ROOM COMMERCIAL PROPERTY FOR RENT'],'Show Room/Shop')"
   ]
  },
  {
   "cell_type": "code",
   "execution_count": 126,
   "metadata": {},
   "outputs": [],
   "source": [
    "df['More Info']=df['More Info'].replace(['BLOCKS OF FLATS FOR RENT', 'BLOCK OF FLAT FOR RENT',\n",
    "       'BLOCKS OF FLATS HOUSE FOR RENT',\n",
    "       'BLOCKS OF FLATS FOR RENT',\n",
    "       'MINI FLAT BLOCKS OF FLATS HOUSE FOR RENT',\n",
    "       'MINI FLAT BLOCK OF FLAT FOR RENT'],'Block of Flat')"
   ]
  },
  {
   "cell_type": "code",
   "execution_count": 147,
   "metadata": {},
   "outputs": [],
   "source": [
    "df['More Info']=df['More Info'].replace(['SEMI DETACHED BUNGALOW FOR RENT',\n",
    "    'DETACHED BUNGALOW FOR RENT',\n",
    "    'TERRACED BUNGALOW FOR RENT', \n",
    "    'DETACHED HOUSE FOR RENT',\n",
    "    'TERRACED BUNGALOW HOUSE FOR RENT',\n",
    "    'DETACHED BUNGALOW HOUSE FOR RENT',\n",
    "    'SEMI DETACHED BUNGALOW HOUSE FOR RENT',\n",
    "    'MINI FLAT TERRACED BUNGALOW HOUSE FOR RENT',\n",
    "    'MINI FLAT DETACHED BUNGALOW HOUSE FOR RENT',\n",
    "    'MINI FLAT SEMI DETACHED BUNGALOW HOUSE FOR RENT',\n",
    "    'BUNGALOW FOR RENT'],'Bungalow')"
   ]
  },
  {
   "cell_type": "code",
   "execution_count": 128,
   "metadata": {},
   "outputs": [],
   "source": [
    "df['More Info']=df['More Info'].replace(['LAND FOR RENT',\n",
    "       'JOINT VENTURE LAND FOR RENT',\n",
    "       'COMMERCIAL LAND FOR RENT',\n",
    "       'MIXED USE LAND FOR RENT',\n",
    "       'RESIDENTIAL LAND FOR RENT',\n",
    "       'RESIDENTIAL LAND LAND FOR RENT',\n",
    "       'COMMERCIAL LAND LAND FOR RENT',\n",
    "       'MIXED USE LAND LAND FOR RENT',\n",
    "       'JOINT VENTURE LAND LAND FOR RENT',\n",
    "       'SERVICED RESIDENTIAL LAND FOR RENT',\n",
    "       'TANK FARM COMMERCIAL PROPERTY FOR RENT',\n",
    "       'SERVICED RESIDENTIAL LAND LAND FOR RENT'],'Land/Farm')"
   ]
  },
  {
   "cell_type": "code",
   "execution_count": 129,
   "metadata": {},
   "outputs": [],
   "source": [
    "df['More Info']=df['More Info'].replace(['CHURCH COMMERCIAL PROPERTY FOR RENT',\n",
    "       'CHURCH FOR RENT'],'Church')"
   ]
  },
  {
   "cell_type": "code",
   "execution_count": 148,
   "metadata": {},
   "outputs": [],
   "source": [
    "df['More Info']=df['More Info'].replace(['HOUSE FOR RENT',\n",
    "        'DETACHED HOUSE FOR RENT',\n",
    "        'FACE TO FACE FOR RENT'],'House')"
   ]
  },
  {
   "cell_type": "code",
   "execution_count": 130,
   "metadata": {},
   "outputs": [],
   "source": [
    "df['More Info']=df['More Info'].replace(['HOTEL/GUEST HOUSE FOR RENT',\n",
    "       'HOTEL/GUEST HOUSE COMMERCIAL PROPERTY FOR RENT',\n",
    "       'EVENT CENTRE FOR RENT',\n",
    "       'EVENT CENTRE COMMERCIAL PROPERTY FOR RENT'],'Hotel/Guest and Event Centre')"
   ]
  },
  {
   "cell_type": "code",
   "execution_count": 131,
   "metadata": {},
   "outputs": [],
   "source": [
    "df['More Info']=df['More Info'].replace(['MASSIONETTE FOR RENT', \n",
    "       'MASSIONETTE HOUSE FOR RENT',\n",
    "       'MINI FLAT MASSIONETTE HOUSE FOR RENT',\n",
    "       'MANSION FOR RENT'],'Mansionette')"
   ]
  },
  {
   "cell_type": "code",
   "execution_count": 152,
   "metadata": {},
   "outputs": [],
   "source": [
    "df['More Info']=df['More Info'].replace(['WAREHOUSE FOR RENT', \n",
    "       'WAREHOUSE COMMERCIAL PROPERTY FOR RENT',\n",
    "       'FACTORY COMMERCIAL PROPERTY FOR RENT',\n",
    "       'FACTORY FOR RENT',\n",
    "       'MINI FLAT WAREHOUSE COMMERCIAL PROPERTY FOR RENT'],'Warehouse')"
   ]
  },
  {
   "cell_type": "code",
   "execution_count": 133,
   "metadata": {},
   "outputs": [],
   "source": [
    "df['More Info']=df['More Info'].replace(['CO WORKING SPACE FOR RENT',\n",
    "       'OFFICE SPACE COMMERCIAL PROPERTY FOR RENT',\n",
    "       'MINI FLAT MEETING ROOM CO WORKING SPACE FOR RENT',\n",
    "       'PRIVATE OFFICE CO WORKING SPACE FOR RENT',\n",
    "       'WORKSTATION CO WORKING SPACE FOR RENT',\n",
    "       'DESK CO WORKING SPACE FOR RENT',\n",
    "       'MINI FLAT WORKSTATION CO WORKING SPACE FOR RENT',\n",
    "       'WORKSTATION FOR RENT',\n",
    "       'WORKSTATION CO WORKING SPACE FOR RENT',\n",
    "       'MINI FLAT WORKSTATION CO WORKING SPACE FOR RENT',\n",
    "       'DESK FOR RENT',\n",
    "       'PRIVATE OFFICE FOR RENT', \n",
    "       'OFFICE SPACE FOR RENT',\n",
    "       'OFFICE SPACE COMMERCIAL PROPERTY FOR RENT',\n",
    "       'MINI FLAT OFFICE SPACE COMMERCIAL PROPERTY FOR RENT',\n",
    "       'MINI FLAT CONFERENCE ROOM CO WORKING SPACE FOR RENT',\n",
    "       'CONFERENCE ROOM CO WORKING SPACE FOR RENT',\n",
    "       'CONFERENCE ROOM FOR RENT',\n",
    "       'MEETING ROOM FOR RENT',\n",
    "       'MINI FLAT PRIVATE OFFICE CO WORKING SPACE FOR RENT'],'Work Space')"
   ]
  },
  {
   "cell_type": "code",
   "execution_count": 134,
   "metadata": {},
   "outputs": [],
   "source": [
    "df['More Info']=df['More Info'].replace(['SCHOOL FOR RENT','SCHOOL COMMERCIAL PROPERTY FOR RENT'],'School')"
   ]
  },
  {
   "cell_type": "code",
   "execution_count": 135,
   "metadata": {},
   "outputs": [],
   "source": [
    "df['More Info']=df['More Info'].replace(['SELF CONTAIN FLAT / APARTMENT FOR RENT', 'SELF CONTAIN FOR RENT',\n",
    "       'MINI FLAT SELF CONTAIN FLAT / APARTMENT FOR RENT'],'Self Contained')"
   ]
  },
  {
   "cell_type": "code",
   "execution_count": 149,
   "metadata": {},
   "outputs": [
    {
     "data": {
      "text/plain": [
       "array(['House', 'Flat', 'Show Room/Shop', 'Work Space', 'Land/Farm',\n",
       "       'Self Contained', 'Pent/Duplex', 'Studio', 'Warehouse', 'Bungalow',\n",
       "       'Boys Quarters', 'Mansionette', 'Hotel/Guest and Event Centre',\n",
       "       'School', 'Church', 'FACTORY FOR RENT', 'TERRACE FOR RENT',\n",
       "       'PENT HOUSE FOR RENT'], dtype=object)"
      ]
     },
     "execution_count": 149,
     "metadata": {},
     "output_type": "execute_result"
    }
   ],
   "source": [
    "df['More Info'].unique()"
   ]
  },
  {
   "cell_type": "code",
   "execution_count": 158,
   "metadata": {},
   "outputs": [
    {
     "data": {
      "text/plain": [
       "32556"
      ]
     },
     "execution_count": 158,
     "metadata": {},
     "output_type": "execute_result"
    }
   ],
   "source": [
    "len(df.Location.unique())"
   ]
  },
  {
   "cell_type": "code",
   "execution_count": 156,
   "metadata": {},
   "outputs": [
    {
     "data": {
      "text/html": [
       "<div>\n",
       "<style scoped>\n",
       "    .dataframe tbody tr th:only-of-type {\n",
       "        vertical-align: middle;\n",
       "    }\n",
       "\n",
       "    .dataframe tbody tr th {\n",
       "        vertical-align: top;\n",
       "    }\n",
       "\n",
       "    .dataframe thead th {\n",
       "        text-align: right;\n",
       "    }\n",
       "</style>\n",
       "<table border=\"1\" class=\"dataframe\">\n",
       "  <thead>\n",
       "    <tr style=\"text-align: right;\">\n",
       "      <th></th>\n",
       "      <th>More Info</th>\n",
       "      <th>Location</th>\n",
       "      <th>Serviced</th>\n",
       "      <th>Newly Built</th>\n",
       "      <th>Furnished</th>\n",
       "      <th>Bedrooms</th>\n",
       "      <th>Bathrooms</th>\n",
       "      <th>Toilets</th>\n",
       "      <th>Amount</th>\n",
       "    </tr>\n",
       "  </thead>\n",
       "  <tbody>\n",
       "    <tr>\n",
       "      <th>0</th>\n",
       "      <td>House</td>\n",
       "      <td>White Oak Estate, Ologolo Opp. Agungi, Ologolo...</td>\n",
       "      <td>0</td>\n",
       "      <td>1</td>\n",
       "      <td>0</td>\n",
       "      <td>4.0</td>\n",
       "      <td>4.0</td>\n",
       "      <td>5.0</td>\n",
       "      <td>5000000.0</td>\n",
       "    </tr>\n",
       "    <tr>\n",
       "      <th>1</th>\n",
       "      <td>House</td>\n",
       "      <td>Hrc Estate Beside Vgc Estate, Vgc Lekki Lagos</td>\n",
       "      <td>0</td>\n",
       "      <td>1</td>\n",
       "      <td>0</td>\n",
       "      <td>4.0</td>\n",
       "      <td>4.0</td>\n",
       "      <td>5.0</td>\n",
       "      <td>5000000.0</td>\n",
       "    </tr>\n",
       "    <tr>\n",
       "      <th>2</th>\n",
       "      <td>House</td>\n",
       "      <td>Osapa London Lekki Lagos</td>\n",
       "      <td>1</td>\n",
       "      <td>0</td>\n",
       "      <td>0</td>\n",
       "      <td>2.0</td>\n",
       "      <td>3.0</td>\n",
       "      <td>3.0</td>\n",
       "      <td>350000.0</td>\n",
       "    </tr>\n",
       "    <tr>\n",
       "      <th>3</th>\n",
       "      <td>House</td>\n",
       "      <td>Ologolo Lekki Lagos</td>\n",
       "      <td>1</td>\n",
       "      <td>1</td>\n",
       "      <td>0</td>\n",
       "      <td>2.0</td>\n",
       "      <td>3.0</td>\n",
       "      <td>3.0</td>\n",
       "      <td>270000.0</td>\n",
       "    </tr>\n",
       "    <tr>\n",
       "      <th>4</th>\n",
       "      <td>House</td>\n",
       "      <td>Mojisola Onikoyi Ikoyi Lagos</td>\n",
       "      <td>1</td>\n",
       "      <td>1</td>\n",
       "      <td>0</td>\n",
       "      <td>2.0</td>\n",
       "      <td>3.0</td>\n",
       "      <td>3.0</td>\n",
       "      <td>500000.0</td>\n",
       "    </tr>\n",
       "    <tr>\n",
       "      <th>...</th>\n",
       "      <td>...</td>\n",
       "      <td>...</td>\n",
       "      <td>...</td>\n",
       "      <td>...</td>\n",
       "      <td>...</td>\n",
       "      <td>...</td>\n",
       "      <td>...</td>\n",
       "      <td>...</td>\n",
       "      <td>...</td>\n",
       "    </tr>\n",
       "    <tr>\n",
       "      <th>98075</th>\n",
       "      <td>House</td>\n",
       "      <td>Akala Akobo Ibadan Oyo</td>\n",
       "      <td>0</td>\n",
       "      <td>0</td>\n",
       "      <td>0</td>\n",
       "      <td>4.0</td>\n",
       "      <td>4.0</td>\n",
       "      <td>4.0</td>\n",
       "      <td>90000.0</td>\n",
       "    </tr>\n",
       "    <tr>\n",
       "      <th>98076</th>\n",
       "      <td>Self Contained</td>\n",
       "      <td>Oluwaga Road. Baruwa Ipaja Lagos</td>\n",
       "      <td>0</td>\n",
       "      <td>1</td>\n",
       "      <td>1</td>\n",
       "      <td>3.0</td>\n",
       "      <td>4.0</td>\n",
       "      <td>4.0</td>\n",
       "      <td>50000.0</td>\n",
       "    </tr>\n",
       "    <tr>\n",
       "      <th>98077</th>\n",
       "      <td>Flat</td>\n",
       "      <td>By Sterling Bank Magboro Obafemi Owode Ogun</td>\n",
       "      <td>0</td>\n",
       "      <td>0</td>\n",
       "      <td>1</td>\n",
       "      <td>2.0</td>\n",
       "      <td>3.0</td>\n",
       "      <td>3.0</td>\n",
       "      <td>33000.0</td>\n",
       "    </tr>\n",
       "    <tr>\n",
       "      <th>98078</th>\n",
       "      <td>Flat</td>\n",
       "      <td>Arepo Arepo Arepo Ogun</td>\n",
       "      <td>0</td>\n",
       "      <td>1</td>\n",
       "      <td>1</td>\n",
       "      <td>2.0</td>\n",
       "      <td>3.0</td>\n",
       "      <td>3.0</td>\n",
       "      <td>40000.0</td>\n",
       "    </tr>\n",
       "    <tr>\n",
       "      <th>98079</th>\n",
       "      <td>Flat</td>\n",
       "      <td>3bedroom Flat At Jeje Area, Apete.all Rooms En...</td>\n",
       "      <td>0</td>\n",
       "      <td>0</td>\n",
       "      <td>0</td>\n",
       "      <td>3.0</td>\n",
       "      <td>3.0</td>\n",
       "      <td>3.0</td>\n",
       "      <td>15000.0</td>\n",
       "    </tr>\n",
       "  </tbody>\n",
       "</table>\n",
       "<p>98080 rows × 9 columns</p>\n",
       "</div>"
      ],
      "text/plain": [
       "            More Info                                           Location  \\\n",
       "0               House  White Oak Estate, Ologolo Opp. Agungi, Ologolo...   \n",
       "1               House      Hrc Estate Beside Vgc Estate, Vgc Lekki Lagos   \n",
       "2               House                           Osapa London Lekki Lagos   \n",
       "3               House                                Ologolo Lekki Lagos   \n",
       "4               House                       Mojisola Onikoyi Ikoyi Lagos   \n",
       "...               ...                                                ...   \n",
       "98075           House                             Akala Akobo Ibadan Oyo   \n",
       "98076  Self Contained                   Oluwaga Road. Baruwa Ipaja Lagos   \n",
       "98077            Flat        By Sterling Bank Magboro Obafemi Owode Ogun   \n",
       "98078            Flat                             Arepo Arepo Arepo Ogun   \n",
       "98079            Flat  3bedroom Flat At Jeje Area, Apete.all Rooms En...   \n",
       "\n",
       "       Serviced  Newly Built  Furnished  Bedrooms  Bathrooms  Toilets  \\\n",
       "0             0            1          0       4.0        4.0      5.0   \n",
       "1             0            1          0       4.0        4.0      5.0   \n",
       "2             1            0          0       2.0        3.0      3.0   \n",
       "3             1            1          0       2.0        3.0      3.0   \n",
       "4             1            1          0       2.0        3.0      3.0   \n",
       "...         ...          ...        ...       ...        ...      ...   \n",
       "98075         0            0          0       4.0        4.0      4.0   \n",
       "98076         0            1          1       3.0        4.0      4.0   \n",
       "98077         0            0          1       2.0        3.0      3.0   \n",
       "98078         0            1          1       2.0        3.0      3.0   \n",
       "98079         0            0          0       3.0        3.0      3.0   \n",
       "\n",
       "          Amount  \n",
       "0      5000000.0  \n",
       "1      5000000.0  \n",
       "2       350000.0  \n",
       "3       270000.0  \n",
       "4       500000.0  \n",
       "...          ...  \n",
       "98075    90000.0  \n",
       "98076    50000.0  \n",
       "98077    33000.0  \n",
       "98078    40000.0  \n",
       "98079    15000.0  \n",
       "\n",
       "[98080 rows x 9 columns]"
      ]
     },
     "execution_count": 156,
     "metadata": {},
     "output_type": "execute_result"
    }
   ],
   "source": [
    "df"
   ]
  },
  {
   "cell_type": "code",
   "execution_count": 159,
   "metadata": {},
   "outputs": [],
   "source": [
    "# convert the df.Location to int \n",
    "from sklearn.preprocessing import LabelEncoder\n",
    "le=LabelEncoder()\n",
    "\n",
    "df['Location']=le.fit_transform(df['Location'])"
   ]
  },
  {
   "cell_type": "code",
   "execution_count": 160,
   "metadata": {},
   "outputs": [
    {
     "data": {
      "text/plain": [
       "0        32108\n",
       "1        13848\n",
       "2        27054\n",
       "3        25297\n",
       "4        19535\n",
       "         ...  \n",
       "98075     4039\n",
       "98076    25693\n",
       "98077     8560\n",
       "98078     5789\n",
       "98079     1380\n",
       "Name: Location, Length: 98080, dtype: int32"
      ]
     },
     "execution_count": 160,
     "metadata": {},
     "output_type": "execute_result"
    }
   ],
   "source": [
    "df['Location']"
   ]
  },
  {
   "cell_type": "code",
   "execution_count": 162,
   "metadata": {},
   "outputs": [
    {
     "data": {
      "text/html": [
       "<div>\n",
       "<style scoped>\n",
       "    .dataframe tbody tr th:only-of-type {\n",
       "        vertical-align: middle;\n",
       "    }\n",
       "\n",
       "    .dataframe tbody tr th {\n",
       "        vertical-align: top;\n",
       "    }\n",
       "\n",
       "    .dataframe thead th {\n",
       "        text-align: right;\n",
       "    }\n",
       "</style>\n",
       "<table border=\"1\" class=\"dataframe\">\n",
       "  <thead>\n",
       "    <tr style=\"text-align: right;\">\n",
       "      <th></th>\n",
       "      <th>Boys Quarters</th>\n",
       "      <th>Bungalow</th>\n",
       "      <th>Church</th>\n",
       "      <th>Flat</th>\n",
       "      <th>Hotel/Guest and Event Centre</th>\n",
       "      <th>House</th>\n",
       "      <th>Land/Farm</th>\n",
       "      <th>Mansionette</th>\n",
       "      <th>Pent/Duplex</th>\n",
       "      <th>School</th>\n",
       "      <th>Self Contained</th>\n",
       "      <th>Show Room/Shop</th>\n",
       "      <th>Studio</th>\n",
       "      <th>Warehouse</th>\n",
       "      <th>Work Space</th>\n",
       "    </tr>\n",
       "  </thead>\n",
       "  <tbody>\n",
       "    <tr>\n",
       "      <th>0</th>\n",
       "      <td>0</td>\n",
       "      <td>0</td>\n",
       "      <td>0</td>\n",
       "      <td>0</td>\n",
       "      <td>0</td>\n",
       "      <td>1</td>\n",
       "      <td>0</td>\n",
       "      <td>0</td>\n",
       "      <td>0</td>\n",
       "      <td>0</td>\n",
       "      <td>0</td>\n",
       "      <td>0</td>\n",
       "      <td>0</td>\n",
       "      <td>0</td>\n",
       "      <td>0</td>\n",
       "    </tr>\n",
       "    <tr>\n",
       "      <th>1</th>\n",
       "      <td>0</td>\n",
       "      <td>0</td>\n",
       "      <td>0</td>\n",
       "      <td>0</td>\n",
       "      <td>0</td>\n",
       "      <td>1</td>\n",
       "      <td>0</td>\n",
       "      <td>0</td>\n",
       "      <td>0</td>\n",
       "      <td>0</td>\n",
       "      <td>0</td>\n",
       "      <td>0</td>\n",
       "      <td>0</td>\n",
       "      <td>0</td>\n",
       "      <td>0</td>\n",
       "    </tr>\n",
       "    <tr>\n",
       "      <th>2</th>\n",
       "      <td>0</td>\n",
       "      <td>0</td>\n",
       "      <td>0</td>\n",
       "      <td>0</td>\n",
       "      <td>0</td>\n",
       "      <td>1</td>\n",
       "      <td>0</td>\n",
       "      <td>0</td>\n",
       "      <td>0</td>\n",
       "      <td>0</td>\n",
       "      <td>0</td>\n",
       "      <td>0</td>\n",
       "      <td>0</td>\n",
       "      <td>0</td>\n",
       "      <td>0</td>\n",
       "    </tr>\n",
       "  </tbody>\n",
       "</table>\n",
       "</div>"
      ],
      "text/plain": [
       "   Boys Quarters  Bungalow  Church  Flat  Hotel/Guest and Event Centre  House  \\\n",
       "0              0         0       0     0                             0      1   \n",
       "1              0         0       0     0                             0      1   \n",
       "2              0         0       0     0                             0      1   \n",
       "\n",
       "   Land/Farm  Mansionette  Pent/Duplex  School  Self Contained  \\\n",
       "0          0            0            0       0               0   \n",
       "1          0            0            0       0               0   \n",
       "2          0            0            0       0               0   \n",
       "\n",
       "   Show Room/Shop  Studio  Warehouse  Work Space  \n",
       "0               0       0          0           0  \n",
       "1               0       0          0           0  \n",
       "2               0       0          0           0  "
      ]
     },
     "execution_count": 162,
     "metadata": {},
     "output_type": "execute_result"
    }
   ],
   "source": [
    "dummies=pd.get_dummies(df['More Info']).astype(int)\n",
    "dummies.head(3)"
   ]
  },
  {
   "cell_type": "code",
   "execution_count": 163,
   "metadata": {},
   "outputs": [
    {
     "data": {
      "text/html": [
       "<div>\n",
       "<style scoped>\n",
       "    .dataframe tbody tr th:only-of-type {\n",
       "        vertical-align: middle;\n",
       "    }\n",
       "\n",
       "    .dataframe tbody tr th {\n",
       "        vertical-align: top;\n",
       "    }\n",
       "\n",
       "    .dataframe thead th {\n",
       "        text-align: right;\n",
       "    }\n",
       "</style>\n",
       "<table border=\"1\" class=\"dataframe\">\n",
       "  <thead>\n",
       "    <tr style=\"text-align: right;\">\n",
       "      <th></th>\n",
       "      <th>Location</th>\n",
       "      <th>Serviced</th>\n",
       "      <th>Newly Built</th>\n",
       "      <th>Furnished</th>\n",
       "      <th>Bedrooms</th>\n",
       "      <th>Bathrooms</th>\n",
       "      <th>Toilets</th>\n",
       "      <th>Amount</th>\n",
       "      <th>Boys Quarters</th>\n",
       "      <th>Bungalow</th>\n",
       "      <th>...</th>\n",
       "      <th>House</th>\n",
       "      <th>Land/Farm</th>\n",
       "      <th>Mansionette</th>\n",
       "      <th>Pent/Duplex</th>\n",
       "      <th>School</th>\n",
       "      <th>Self Contained</th>\n",
       "      <th>Show Room/Shop</th>\n",
       "      <th>Studio</th>\n",
       "      <th>Warehouse</th>\n",
       "      <th>Work Space</th>\n",
       "    </tr>\n",
       "  </thead>\n",
       "  <tbody>\n",
       "    <tr>\n",
       "      <th>0</th>\n",
       "      <td>32108</td>\n",
       "      <td>0</td>\n",
       "      <td>1</td>\n",
       "      <td>0</td>\n",
       "      <td>4.0</td>\n",
       "      <td>4.0</td>\n",
       "      <td>5.0</td>\n",
       "      <td>5000000.0</td>\n",
       "      <td>0</td>\n",
       "      <td>0</td>\n",
       "      <td>...</td>\n",
       "      <td>1</td>\n",
       "      <td>0</td>\n",
       "      <td>0</td>\n",
       "      <td>0</td>\n",
       "      <td>0</td>\n",
       "      <td>0</td>\n",
       "      <td>0</td>\n",
       "      <td>0</td>\n",
       "      <td>0</td>\n",
       "      <td>0</td>\n",
       "    </tr>\n",
       "    <tr>\n",
       "      <th>1</th>\n",
       "      <td>13848</td>\n",
       "      <td>0</td>\n",
       "      <td>1</td>\n",
       "      <td>0</td>\n",
       "      <td>4.0</td>\n",
       "      <td>4.0</td>\n",
       "      <td>5.0</td>\n",
       "      <td>5000000.0</td>\n",
       "      <td>0</td>\n",
       "      <td>0</td>\n",
       "      <td>...</td>\n",
       "      <td>1</td>\n",
       "      <td>0</td>\n",
       "      <td>0</td>\n",
       "      <td>0</td>\n",
       "      <td>0</td>\n",
       "      <td>0</td>\n",
       "      <td>0</td>\n",
       "      <td>0</td>\n",
       "      <td>0</td>\n",
       "      <td>0</td>\n",
       "    </tr>\n",
       "    <tr>\n",
       "      <th>2</th>\n",
       "      <td>27054</td>\n",
       "      <td>1</td>\n",
       "      <td>0</td>\n",
       "      <td>0</td>\n",
       "      <td>2.0</td>\n",
       "      <td>3.0</td>\n",
       "      <td>3.0</td>\n",
       "      <td>350000.0</td>\n",
       "      <td>0</td>\n",
       "      <td>0</td>\n",
       "      <td>...</td>\n",
       "      <td>1</td>\n",
       "      <td>0</td>\n",
       "      <td>0</td>\n",
       "      <td>0</td>\n",
       "      <td>0</td>\n",
       "      <td>0</td>\n",
       "      <td>0</td>\n",
       "      <td>0</td>\n",
       "      <td>0</td>\n",
       "      <td>0</td>\n",
       "    </tr>\n",
       "    <tr>\n",
       "      <th>3</th>\n",
       "      <td>25297</td>\n",
       "      <td>1</td>\n",
       "      <td>1</td>\n",
       "      <td>0</td>\n",
       "      <td>2.0</td>\n",
       "      <td>3.0</td>\n",
       "      <td>3.0</td>\n",
       "      <td>270000.0</td>\n",
       "      <td>0</td>\n",
       "      <td>0</td>\n",
       "      <td>...</td>\n",
       "      <td>1</td>\n",
       "      <td>0</td>\n",
       "      <td>0</td>\n",
       "      <td>0</td>\n",
       "      <td>0</td>\n",
       "      <td>0</td>\n",
       "      <td>0</td>\n",
       "      <td>0</td>\n",
       "      <td>0</td>\n",
       "      <td>0</td>\n",
       "    </tr>\n",
       "  </tbody>\n",
       "</table>\n",
       "<p>4 rows × 23 columns</p>\n",
       "</div>"
      ],
      "text/plain": [
       "   Location  Serviced  Newly Built  Furnished  Bedrooms  Bathrooms  Toilets  \\\n",
       "0     32108         0            1          0       4.0        4.0      5.0   \n",
       "1     13848         0            1          0       4.0        4.0      5.0   \n",
       "2     27054         1            0          0       2.0        3.0      3.0   \n",
       "3     25297         1            1          0       2.0        3.0      3.0   \n",
       "\n",
       "      Amount  Boys Quarters  Bungalow  ...  House  Land/Farm  Mansionette  \\\n",
       "0  5000000.0              0         0  ...      1          0            0   \n",
       "1  5000000.0              0         0  ...      1          0            0   \n",
       "2   350000.0              0         0  ...      1          0            0   \n",
       "3   270000.0              0         0  ...      1          0            0   \n",
       "\n",
       "   Pent/Duplex  School  Self Contained  Show Room/Shop  Studio  Warehouse  \\\n",
       "0            0       0               0               0       0          0   \n",
       "1            0       0               0               0       0          0   \n",
       "2            0       0               0               0       0          0   \n",
       "3            0       0               0               0       0          0   \n",
       "\n",
       "   Work Space  \n",
       "0           0  \n",
       "1           0  \n",
       "2           0  \n",
       "3           0  \n",
       "\n",
       "[4 rows x 23 columns]"
      ]
     },
     "execution_count": 163,
     "metadata": {},
     "output_type": "execute_result"
    }
   ],
   "source": [
    "df=pd.concat([df.drop('More Info',axis=1),dummies],axis=1)\n",
    "df.head(4)"
   ]
  },
  {
   "cell_type": "code",
   "execution_count": 167,
   "metadata": {},
   "outputs": [
    {
     "data": {
      "text/plain": [
       "Index(['Bedrooms', 'Bathrooms', 'Toilets'], dtype='object')"
      ]
     },
     "execution_count": 167,
     "metadata": {},
     "output_type": "execute_result"
    }
   ],
   "source": [
    "# checking the columns that have the nan values\n",
    "df.columns[df.isna().any()]"
   ]
  },
  {
   "cell_type": "code",
   "execution_count": 172,
   "metadata": {},
   "outputs": [
    {
     "data": {
      "text/plain": [
       "Location                           0\n",
       "Serviced                           0\n",
       "Newly Built                        0\n",
       "Furnished                          0\n",
       "Bedrooms                           0\n",
       "Bathrooms                       1817\n",
       "Toilets                         2109\n",
       "Amount                             0\n",
       "Boys Quarters                      0\n",
       "Bungalow                           0\n",
       "Church                             0\n",
       "Flat                               0\n",
       "Hotel/Guest and Event Centre       0\n",
       "House                              0\n",
       "Land/Farm                          0\n",
       "Mansionette                        0\n",
       "Pent/Duplex                        0\n",
       "School                             0\n",
       "Self Contained                     0\n",
       "Show Room/Shop                     0\n",
       "Studio                             0\n",
       "Warehouse                          0\n",
       "Work Space                         0\n",
       "dtype: int64"
      ]
     },
     "execution_count": 172,
     "metadata": {},
     "output_type": "execute_result"
    }
   ],
   "source": [
    "df.isna().sum() "
   ]
  },
  {
   "cell_type": "code",
   "execution_count": 168,
   "metadata": {},
   "outputs": [
    {
     "data": {
      "text/plain": [
       "Location                        0.000000\n",
       "Serviced                        0.000000\n",
       "Newly Built                     0.000000\n",
       "Furnished                       0.000000\n",
       "Bedrooms                        3.234095\n",
       "Bathrooms                       4.670677\n",
       "Toilets                         4.664560\n",
       "Amount                          0.000000\n",
       "Boys Quarters                   0.000000\n",
       "Bungalow                        0.000000\n",
       "Church                          0.000000\n",
       "Flat                            0.000000\n",
       "Hotel/Guest and Event Centre    0.000000\n",
       "House                           0.000000\n",
       "Land/Farm                       0.000000\n",
       "Mansionette                     0.000000\n",
       "Pent/Duplex                     0.000000\n",
       "School                          0.000000\n",
       "Self Contained                  0.000000\n",
       "Show Room/Shop                  0.000000\n",
       "Studio                          0.000000\n",
       "Warehouse                       0.000000\n",
       "Work Space                      0.000000\n",
       "dtype: float64"
      ]
     },
     "execution_count": 168,
     "metadata": {},
     "output_type": "execute_result"
    }
   ],
   "source": [
    "(df.isna().sum() / df.shape[0]) * 100"
   ]
  },
  {
   "cell_type": "code",
   "execution_count": 171,
   "metadata": {},
   "outputs": [],
   "source": [
    "df = df.dropna(subset=['Bedrooms'])"
   ]
  },
  {
   "cell_type": "code",
   "execution_count": 173,
   "metadata": {},
   "outputs": [],
   "source": [
    "df = df.fillna(0)"
   ]
  },
  {
   "cell_type": "code",
   "execution_count": 175,
   "metadata": {},
   "outputs": [
    {
     "data": {
      "text/html": [
       "<div>\n",
       "<style scoped>\n",
       "    .dataframe tbody tr th:only-of-type {\n",
       "        vertical-align: middle;\n",
       "    }\n",
       "\n",
       "    .dataframe tbody tr th {\n",
       "        vertical-align: top;\n",
       "    }\n",
       "\n",
       "    .dataframe thead th {\n",
       "        text-align: right;\n",
       "    }\n",
       "</style>\n",
       "<table border=\"1\" class=\"dataframe\">\n",
       "  <thead>\n",
       "    <tr style=\"text-align: right;\">\n",
       "      <th></th>\n",
       "      <th>Location</th>\n",
       "      <th>Serviced</th>\n",
       "      <th>Newly Built</th>\n",
       "      <th>Furnished</th>\n",
       "      <th>Bedrooms</th>\n",
       "      <th>Bathrooms</th>\n",
       "      <th>Toilets</th>\n",
       "      <th>Amount</th>\n",
       "      <th>Boys Quarters</th>\n",
       "      <th>Bungalow</th>\n",
       "      <th>...</th>\n",
       "      <th>House</th>\n",
       "      <th>Land/Farm</th>\n",
       "      <th>Mansionette</th>\n",
       "      <th>Pent/Duplex</th>\n",
       "      <th>School</th>\n",
       "      <th>Self Contained</th>\n",
       "      <th>Show Room/Shop</th>\n",
       "      <th>Studio</th>\n",
       "      <th>Warehouse</th>\n",
       "      <th>Work Space</th>\n",
       "    </tr>\n",
       "  </thead>\n",
       "  <tbody>\n",
       "    <tr>\n",
       "      <th>0</th>\n",
       "      <td>32108</td>\n",
       "      <td>0</td>\n",
       "      <td>1</td>\n",
       "      <td>0</td>\n",
       "      <td>4.0</td>\n",
       "      <td>4.0</td>\n",
       "      <td>5.0</td>\n",
       "      <td>5000000.0</td>\n",
       "      <td>0</td>\n",
       "      <td>0</td>\n",
       "      <td>...</td>\n",
       "      <td>1</td>\n",
       "      <td>0</td>\n",
       "      <td>0</td>\n",
       "      <td>0</td>\n",
       "      <td>0</td>\n",
       "      <td>0</td>\n",
       "      <td>0</td>\n",
       "      <td>0</td>\n",
       "      <td>0</td>\n",
       "      <td>0</td>\n",
       "    </tr>\n",
       "    <tr>\n",
       "      <th>1</th>\n",
       "      <td>13848</td>\n",
       "      <td>0</td>\n",
       "      <td>1</td>\n",
       "      <td>0</td>\n",
       "      <td>4.0</td>\n",
       "      <td>4.0</td>\n",
       "      <td>5.0</td>\n",
       "      <td>5000000.0</td>\n",
       "      <td>0</td>\n",
       "      <td>0</td>\n",
       "      <td>...</td>\n",
       "      <td>1</td>\n",
       "      <td>0</td>\n",
       "      <td>0</td>\n",
       "      <td>0</td>\n",
       "      <td>0</td>\n",
       "      <td>0</td>\n",
       "      <td>0</td>\n",
       "      <td>0</td>\n",
       "      <td>0</td>\n",
       "      <td>0</td>\n",
       "    </tr>\n",
       "    <tr>\n",
       "      <th>2</th>\n",
       "      <td>27054</td>\n",
       "      <td>1</td>\n",
       "      <td>0</td>\n",
       "      <td>0</td>\n",
       "      <td>2.0</td>\n",
       "      <td>3.0</td>\n",
       "      <td>3.0</td>\n",
       "      <td>350000.0</td>\n",
       "      <td>0</td>\n",
       "      <td>0</td>\n",
       "      <td>...</td>\n",
       "      <td>1</td>\n",
       "      <td>0</td>\n",
       "      <td>0</td>\n",
       "      <td>0</td>\n",
       "      <td>0</td>\n",
       "      <td>0</td>\n",
       "      <td>0</td>\n",
       "      <td>0</td>\n",
       "      <td>0</td>\n",
       "      <td>0</td>\n",
       "    </tr>\n",
       "  </tbody>\n",
       "</table>\n",
       "<p>3 rows × 23 columns</p>\n",
       "</div>"
      ],
      "text/plain": [
       "   Location  Serviced  Newly Built  Furnished  Bedrooms  Bathrooms  Toilets  \\\n",
       "0     32108         0            1          0       4.0        4.0      5.0   \n",
       "1     13848         0            1          0       4.0        4.0      5.0   \n",
       "2     27054         1            0          0       2.0        3.0      3.0   \n",
       "\n",
       "      Amount  Boys Quarters  Bungalow  ...  House  Land/Farm  Mansionette  \\\n",
       "0  5000000.0              0         0  ...      1          0            0   \n",
       "1  5000000.0              0         0  ...      1          0            0   \n",
       "2   350000.0              0         0  ...      1          0            0   \n",
       "\n",
       "   Pent/Duplex  School  Self Contained  Show Room/Shop  Studio  Warehouse  \\\n",
       "0            0       0               0               0       0          0   \n",
       "1            0       0               0               0       0          0   \n",
       "2            0       0               0               0       0          0   \n",
       "\n",
       "   Work Space  \n",
       "0           0  \n",
       "1           0  \n",
       "2           0  \n",
       "\n",
       "[3 rows x 23 columns]"
      ]
     },
     "execution_count": 175,
     "metadata": {},
     "output_type": "execute_result"
    }
   ],
   "source": [
    "# Removing the zero bedroom and Amount \n",
    "df = df[(df['Amount'] != 0.0) & (df['Bedrooms'] != 0.0)]\n",
    "df=df.reset_index(drop=True)\n",
    "df.head(3)"
   ]
  },
  {
   "cell_type": "code",
   "execution_count": 176,
   "metadata": {},
   "outputs": [
    {
     "data": {
      "text/html": [
       "<div>\n",
       "<style scoped>\n",
       "    .dataframe tbody tr th:only-of-type {\n",
       "        vertical-align: middle;\n",
       "    }\n",
       "\n",
       "    .dataframe tbody tr th {\n",
       "        vertical-align: top;\n",
       "    }\n",
       "\n",
       "    .dataframe thead th {\n",
       "        text-align: right;\n",
       "    }\n",
       "</style>\n",
       "<table border=\"1\" class=\"dataframe\">\n",
       "  <thead>\n",
       "    <tr style=\"text-align: right;\">\n",
       "      <th></th>\n",
       "      <th>Location</th>\n",
       "      <th>Serviced</th>\n",
       "      <th>Newly Built</th>\n",
       "      <th>Furnished</th>\n",
       "      <th>Bedrooms</th>\n",
       "      <th>Bathrooms</th>\n",
       "      <th>Toilets</th>\n",
       "      <th>Amount</th>\n",
       "      <th>Boys Quarters</th>\n",
       "      <th>Bungalow</th>\n",
       "      <th>...</th>\n",
       "      <th>House</th>\n",
       "      <th>Land/Farm</th>\n",
       "      <th>Mansionette</th>\n",
       "      <th>Pent/Duplex</th>\n",
       "      <th>School</th>\n",
       "      <th>Self Contained</th>\n",
       "      <th>Show Room/Shop</th>\n",
       "      <th>Studio</th>\n",
       "      <th>Warehouse</th>\n",
       "      <th>Work Space</th>\n",
       "    </tr>\n",
       "  </thead>\n",
       "  <tbody>\n",
       "    <tr>\n",
       "      <th>0</th>\n",
       "      <td>32108</td>\n",
       "      <td>0</td>\n",
       "      <td>1</td>\n",
       "      <td>0</td>\n",
       "      <td>4.0</td>\n",
       "      <td>4.0</td>\n",
       "      <td>5.0</td>\n",
       "      <td>5000000.0</td>\n",
       "      <td>0</td>\n",
       "      <td>0</td>\n",
       "      <td>...</td>\n",
       "      <td>1</td>\n",
       "      <td>0</td>\n",
       "      <td>0</td>\n",
       "      <td>0</td>\n",
       "      <td>0</td>\n",
       "      <td>0</td>\n",
       "      <td>0</td>\n",
       "      <td>0</td>\n",
       "      <td>0</td>\n",
       "      <td>0</td>\n",
       "    </tr>\n",
       "    <tr>\n",
       "      <th>1</th>\n",
       "      <td>13848</td>\n",
       "      <td>0</td>\n",
       "      <td>1</td>\n",
       "      <td>0</td>\n",
       "      <td>4.0</td>\n",
       "      <td>4.0</td>\n",
       "      <td>5.0</td>\n",
       "      <td>5000000.0</td>\n",
       "      <td>0</td>\n",
       "      <td>0</td>\n",
       "      <td>...</td>\n",
       "      <td>1</td>\n",
       "      <td>0</td>\n",
       "      <td>0</td>\n",
       "      <td>0</td>\n",
       "      <td>0</td>\n",
       "      <td>0</td>\n",
       "      <td>0</td>\n",
       "      <td>0</td>\n",
       "      <td>0</td>\n",
       "      <td>0</td>\n",
       "    </tr>\n",
       "    <tr>\n",
       "      <th>2</th>\n",
       "      <td>27054</td>\n",
       "      <td>1</td>\n",
       "      <td>0</td>\n",
       "      <td>0</td>\n",
       "      <td>2.0</td>\n",
       "      <td>3.0</td>\n",
       "      <td>3.0</td>\n",
       "      <td>350000.0</td>\n",
       "      <td>0</td>\n",
       "      <td>0</td>\n",
       "      <td>...</td>\n",
       "      <td>1</td>\n",
       "      <td>0</td>\n",
       "      <td>0</td>\n",
       "      <td>0</td>\n",
       "      <td>0</td>\n",
       "      <td>0</td>\n",
       "      <td>0</td>\n",
       "      <td>0</td>\n",
       "      <td>0</td>\n",
       "      <td>0</td>\n",
       "    </tr>\n",
       "  </tbody>\n",
       "</table>\n",
       "<p>3 rows × 23 columns</p>\n",
       "</div>"
      ],
      "text/plain": [
       "   Location  Serviced  Newly Built  Furnished  Bedrooms  Bathrooms  Toilets  \\\n",
       "0     32108         0            1          0       4.0        4.0      5.0   \n",
       "1     13848         0            1          0       4.0        4.0      5.0   \n",
       "2     27054         1            0          0       2.0        3.0      3.0   \n",
       "\n",
       "      Amount  Boys Quarters  Bungalow  ...  House  Land/Farm  Mansionette  \\\n",
       "0  5000000.0              0         0  ...      1          0            0   \n",
       "1  5000000.0              0         0  ...      1          0            0   \n",
       "2   350000.0              0         0  ...      1          0            0   \n",
       "\n",
       "   Pent/Duplex  School  Self Contained  Show Room/Shop  Studio  Warehouse  \\\n",
       "0            0       0               0               0       0          0   \n",
       "1            0       0               0               0       0          0   \n",
       "2            0       0               0               0       0          0   \n",
       "\n",
       "   Work Space  \n",
       "0           0  \n",
       "1           0  \n",
       "2           0  \n",
       "\n",
       "[3 rows x 23 columns]"
      ]
     },
     "execution_count": 176,
     "metadata": {},
     "output_type": "execute_result"
    }
   ],
   "source": [
    "# houses of these days have a toilet or bathroom ahead of the rooms, the visitors toilet \n",
    "df=df[~((df.Bathrooms>(df.Bedrooms+1)) | (df.Toilets>(df.Bedrooms+1)))]\n",
    "df.head(3)"
   ]
  },
  {
   "cell_type": "code",
   "execution_count": 179,
   "metadata": {},
   "outputs": [
    {
     "data": {
      "text/plain": [
       "Text(0.5, 1.0, 'Chat of Bedrooms')"
      ]
     },
     "execution_count": 179,
     "metadata": {},
     "output_type": "execute_result"
    },
    {
     "data": {
      "image/png": "[encoded data removed]",
      "text/plain": [
       "<Figure size 640x480 with 1 Axes>"
      ]
     },
     "metadata": {},
     "output_type": "display_data"
    }
   ],
   "source": [
    "plt.hist(df.Bedrooms,rwidth=0.8)\n",
    "plt.xlabel(\"Number of Bedrooms\")\n",
    "plt.ylabel(\"Count\")\n",
    "plt.title('Chat of Bedrooms',size=15)"
   ]
  },
  {
   "cell_type": "code",
   "execution_count": 180,
   "metadata": {},
   "outputs": [
    {
     "data": {
      "text/plain": [
       "Text(0.5, 1.0, 'Chat of Bathrooms')"
      ]
     },
     "execution_count": 180,
     "metadata": {},
     "output_type": "execute_result"
    },
    {
     "data": {
      "image/png": "[encoded data removed]",
      "text/plain": [
       "<Figure size 640x480 with 1 Axes>"
      ]
     },
     "metadata": {},
     "output_type": "display_data"
    }
   ],
   "source": [
    "plt.hist(df.Bathrooms,rwidth=0.8)\n",
    "plt.xlabel(\"Number of bathrooms\")\n",
    "plt.ylabel(\"Count\")\n",
    "plt.title('Chat of Bathrooms',size=15)"
   ]
  },
  {
   "cell_type": "code",
   "execution_count": 181,
   "metadata": {},
   "outputs": [
    {
     "data": {
      "text/plain": [
       "Text(0.5, 1.0, 'Chat of Toilets')"
      ]
     },
     "execution_count": 181,
     "metadata": {},
     "output_type": "execute_result"
    },
    {
     "data": {
      "image/png": "[encoded data removed]",
      "text/plain": [
       "<Figure size 640x480 with 1 Axes>"
      ]
     },
     "metadata": {},
     "output_type": "display_data"
    }
   ],
   "source": [
    "plt.hist(df.Toilets,rwidth=0.8)\n",
    "plt.xlabel(\"Number of Toilets\")\n",
    "plt.ylabel(\"Count\")\n",
    "plt.title('Chat of Toilets',size=15)"
   ]
  },
  {
   "cell_type": "markdown",
   "metadata": {},
   "source": [
    "<h3>**Machine Learning Proper**</h3>"
   ]
  },
  {
   "cell_type": "code",
   "execution_count": 182,
   "metadata": {},
   "outputs": [],
   "source": [
    "x=df.drop('Amount',axis=1)\n",
    "y=df['Amount']"
   ]
  },
  {
   "cell_type": "code",
   "execution_count": 183,
   "metadata": {},
   "outputs": [],
   "source": [
    "from sklearn.model_selection import train_test_split\n",
    "x_train,x_test,y_train,y_test=train_test_split(x,y,test_size=0.2,random_state=10)"
   ]
  },
  {
   "cell_type": "code",
   "execution_count": 184,
   "metadata": {},
   "outputs": [
    {
     "data": {
      "text/plain": [
       "-0.06141902918156661"
      ]
     },
     "execution_count": 184,
     "metadata": {},
     "output_type": "execute_result"
    }
   ],
   "source": [
    "from sklearn.linear_model import LinearRegression\n",
    "lr=LinearRegression()\n",
    "lr.fit(x_train,y_train)\n",
    "lr.score(x_test,y_test)"
   ]
  },
  {
   "cell_type": "code",
   "execution_count": 185,
   "metadata": {},
   "outputs": [
    {
     "data": {
      "text/plain": [
       "array([-4.40428767e-02, -5.81074996e-01, -2.53179120e+00, -5.12182322e-05,\n",
       "       -1.09573320e+00, -5.26520844e-05, -6.73813347e-01])"
      ]
     },
     "execution_count": 185,
     "metadata": {},
     "output_type": "execute_result"
    }
   ],
   "source": [
    "from sklearn.model_selection import ShuffleSplit\n",
    "from sklearn.model_selection import cross_val_score\n",
    "\n",
    "cv=ShuffleSplit(n_splits=7,test_size=0.2, random_state=0)\n",
    "cross_val_score(LinearRegression(),x,y,cv=cv)"
   ]
  },
  {
   "cell_type": "code",
   "execution_count": 186,
   "metadata": {},
   "outputs": [
    {
     "name": "stdout",
     "output_type": "stream",
     "text": [
      "Cross-validation scores (negative MSE): [-2.06352907e+17 -2.47940614e+16 -1.24816542e+16 -1.72869528e+20\n",
      " -1.79431553e+16 -1.73007301e+20 -2.09384022e+16]\n",
      "Mean cross-validation score: -4.9451334162474656e+19\n"
     ]
    },
    {
     "data": {
      "text/plain": [
       "-0.03936670892831917"
      ]
     },
     "execution_count": 186,
     "metadata": {},
     "output_type": "execute_result"
    }
   ],
   "source": [
    "cv = ShuffleSplit(n_splits=7, test_size=0.2, random_state=0)\n",
    "model = LinearRegression()\n",
    "scores = cross_val_score(model, x, y, cv=cv, scoring='neg_mean_squared_error')\n",
    "\n",
    "print(\"Cross-validation scores (negative MSE):\", scores)\n",
    "print(\"Mean cross-validation score:\", np.mean(scores))\n",
    "\n",
    "# Fit the model on the entire dataset\n",
    "model.fit(x, y)\n",
    "model.score(x_test,y_test)"
   ]
  },
  {
   "cell_type": "code",
   "execution_count": 187,
   "metadata": {},
   "outputs": [],
   "source": [
    "# To save the train model \n",
    "import pickle\n",
    "with open('Nig_HouseRent.pickle','wb') as f:\n",
    "    pickle.dump(model,f)"
   ]
  }
 ],
 "metadata": {
  "kernelspec": {
   "display_name": "Python 3",
   "language": "python",
   "name": "python3"
  },
  "language_info": {
   "codemirror_mode": {
    "name": "ipython",
    "version": 3
   },
   "file_extension": ".py",
   "mimetype": "text/x-python",
   "name": "python",
   "nbconvert_exporter": "python",
   "pygments_lexer": "ipython3",
   "version": "3.11.8"
  }
 },
 "nbformat": 4,
 "nbformat_minor": 2
}
